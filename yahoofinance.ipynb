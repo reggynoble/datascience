{
 "cells": [
  {
   "cell_type": "code",
   "execution_count": 18,
   "metadata": {},
   "outputs": [],
   "source": [
    "stocks = {'ss':10, 'up':20, 'ds':35}\n",
    "def yieldstocks(stocks = []):\n",
    "    for stock in enumerate (stocks):\n",
    "        yield stocks.value()\n"
   ]
  },
  {
   "cell_type": "code",
   "execution_count": 19,
   "metadata": {},
   "outputs": [],
   "source": [
    "stocks = {'ss':10, 'up':20, 'ds':35}\n",
    "def yieldstocks(stocks = []):\n",
    "    for stock in enumerate (stocks):\n",
    "        yield stocks.value()\n",
    "\n"
   ]
  },
  {
   "cell_type": "code",
   "execution_count": 3,
   "metadata": {},
   "outputs": [
    {
     "ename": "SyntaxError",
     "evalue": "invalid syntax (<ipython-input-3-87b13aee781b>, line 2)",
     "output_type": "error",
     "traceback": [
      "\u001b[1;36m  File \u001b[1;32m\"<ipython-input-3-87b13aee781b>\"\u001b[1;36m, line \u001b[1;32m2\u001b[0m\n\u001b[1;33m    for stock, price in enumerate stocks:\u001b[0m\n\u001b[1;37m                                       ^\u001b[0m\n\u001b[1;31mSyntaxError\u001b[0m\u001b[1;31m:\u001b[0m invalid syntax\n"
     ]
    }
   ],
   "source": [
    "stocks = {'ss':10, 'up':20, 'ds':35}\n",
    "for stock, price in enumerate stocks:\n",
    "    yield(sock, price) "
   ]
  },
  {
   "cell_type": "code",
   "execution_count": 4,
   "metadata": {},
   "outputs": [
    {
     "ename": "SyntaxError",
     "evalue": "invalid syntax (<ipython-input-4-42cff66baa17>, line 2)",
     "output_type": "error",
     "traceback": [
      "\u001b[1;36m  File \u001b[1;32m\"<ipython-input-4-42cff66baa17>\"\u001b[1;36m, line \u001b[1;32m2\u001b[0m\n\u001b[1;33m    for stock, price in enumerate(stocks)\u001b[0m\n\u001b[1;37m                                         ^\u001b[0m\n\u001b[1;31mSyntaxError\u001b[0m\u001b[1;31m:\u001b[0m invalid syntax\n"
     ]
    }
   ],
   "source": [
    "stocks = {'ss':10, 'up':20, 'ds':35}\n",
    "for stock, price in enumerate(stocks)\n",
    "    yield(sock, price) "
   ]
  },
  {
   "cell_type": "code",
   "execution_count": 5,
   "metadata": {},
   "outputs": [
    {
     "ename": "SyntaxError",
     "evalue": "'yield' outside function (<ipython-input-5-ad89e5872647>, line 3)",
     "output_type": "error",
     "traceback": [
      "\u001b[1;36m  File \u001b[1;32m\"<ipython-input-5-ad89e5872647>\"\u001b[1;36m, line \u001b[1;32m3\u001b[0m\n\u001b[1;33m    yield(sock, price)\u001b[0m\n\u001b[1;37m    ^\u001b[0m\n\u001b[1;31mSyntaxError\u001b[0m\u001b[1;31m:\u001b[0m 'yield' outside function\n"
     ]
    }
   ],
   "source": [
    "stocks = {'ss':10, 'up':20, 'ds':35}\n",
    "for stock, price in enumerate(stocks):\n",
    "    yield(sock, price) "
   ]
  },
  {
   "cell_type": "code",
   "execution_count": 6,
   "metadata": {},
   "outputs": [
    {
     "name": "stdout",
     "output_type": "stream",
     "text": [
      "0 ss\n",
      "1 up\n",
      "2 ds\n"
     ]
    }
   ],
   "source": [
    "stocks = {'ss':10, 'up':20, 'ds':35}\n",
    "for stock, price in enumerate(stocks):\n",
    "    print(stock, price)"
   ]
  },
  {
   "cell_type": "code",
   "execution_count": 7,
   "metadata": {},
   "outputs": [
    {
     "ename": "SyntaxError",
     "evalue": "'yield' outside function (<ipython-input-7-20a6a24e95d5>, line 3)",
     "output_type": "error",
     "traceback": [
      "\u001b[1;36m  File \u001b[1;32m\"<ipython-input-7-20a6a24e95d5>\"\u001b[1;36m, line \u001b[1;32m3\u001b[0m\n\u001b[1;33m    yield (stock, price)\u001b[0m\n\u001b[1;37m    ^\u001b[0m\n\u001b[1;31mSyntaxError\u001b[0m\u001b[1;31m:\u001b[0m 'yield' outside function\n"
     ]
    }
   ],
   "source": [
    "stocks = {'ss':10, 'up':20, 'ds':35}\n",
    "for stock, price in enumerate(stocks):\n",
    "    yield (stock, price)"
   ]
  },
  {
   "cell_type": "code",
   "execution_count": 8,
   "metadata": {},
   "outputs": [
    {
     "ename": "SyntaxError",
     "evalue": "'yield' outside function (<ipython-input-8-4fbceb8bd91f>, line 3)",
     "output_type": "error",
     "traceback": [
      "\u001b[1;36m  File \u001b[1;32m\"<ipython-input-8-4fbceb8bd91f>\"\u001b[1;36m, line \u001b[1;32m3\u001b[0m\n\u001b[1;33m    yield(stock, price)\u001b[0m\n\u001b[1;37m    ^\u001b[0m\n\u001b[1;31mSyntaxError\u001b[0m\u001b[1;31m:\u001b[0m 'yield' outside function\n"
     ]
    }
   ],
   "source": [
    "stocks = {'ss':10, 'up':20, 'ds':35}\n",
    "for stock, price in enumerate(stocks):\n",
    "    yield(stock, price)"
   ]
  },
  {
   "cell_type": "code",
   "execution_count": 38,
   "metadata": {},
   "outputs": [],
   "source": [
    "stocks = {'ss':10, 'up':20, 'ds':35}\n",
    "def stock_analyzer():\n",
    "    for stock, price in enumerate(stocks):\n",
    "        yield(stock, price)"
   ]
  },
  {
   "cell_type": "code",
   "execution_count": 11,
   "metadata": {},
   "outputs": [],
   "source": [
    "stocks = {'ss':10, 'up':20, 'ds':35}\n",
    "def stock_analyzer():\n",
    "    for stock, price in enumerate(stocks):\n",
    "        yield(stock,price)"
   ]
  },
  {
   "cell_type": "code",
   "execution_count": 12,
   "metadata": {},
   "outputs": [],
   "source": [
    "mystocklist = stock_analyzer()"
   ]
  },
  {
   "cell_type": "code",
   "execution_count": 13,
   "metadata": {},
   "outputs": [
    {
     "data": {
      "text/plain": [
       "<generator object stock_analyzer at 0x0000020AC5167F68>"
      ]
     },
     "execution_count": 13,
     "metadata": {},
     "output_type": "execute_result"
    }
   ],
   "source": [
    "mystocklist"
   ]
  },
  {
   "cell_type": "code",
   "execution_count": 14,
   "metadata": {},
   "outputs": [],
   "source": [
    "get_mystocks = list(mystocklist)"
   ]
  },
  {
   "cell_type": "code",
   "execution_count": 15,
   "metadata": {},
   "outputs": [
    {
     "data": {
      "text/plain": [
       "[(0, 'ss'), (1, 'up'), (2, 'ds')]"
      ]
     },
     "execution_count": 15,
     "metadata": {},
     "output_type": "execute_result"
    }
   ],
   "source": [
    "get_mystocks"
   ]
  },
  {
   "cell_type": "code",
   "execution_count": 37,
   "metadata": {},
   "outputs": [],
   "source": [
    "a = [1, 2, 3, 4, 5, 6, 7, 8, 9, 10, 11]\n",
    "odds = [x for x in a if x % 2 == 0]"
   ]
  },
  {
   "cell_type": "code",
   "execution_count": 4,
   "metadata": {},
   "outputs": [],
   "source": [
    "a = [1, 2, 3, 4, 5, 6, 7, 8, 9, 10, 11]\n",
    "evens = [x for x in a if x % 2 == 0]"
   ]
  },
  {
   "cell_type": "code",
   "execution_count": 5,
   "metadata": {},
   "outputs": [
    {
     "data": {
      "text/plain": [
       "[2, 4, 6, 8, 10]"
      ]
     },
     "execution_count": 5,
     "metadata": {},
     "output_type": "execute_result"
    }
   ],
   "source": [
    "evens"
   ]
  },
  {
   "cell_type": "code",
   "execution_count": 36,
   "metadata": {},
   "outputs": [
    {
     "name": "stdout",
     "output_type": "stream",
     "text": [
      "[*********************100%***********************]  1 of 1 completed\n"
     ]
    },
    {
     "data": {
      "image/png": "[encoded data removed]",
      "text/plain": [
       "<Figure size 432x288 with 1 Axes>"
      ]
     },
     "metadata": {
      "needs_background": "light"
     },
     "output_type": "display_data"
    }
   ],
   "source": [
    "# Import the plotting library\n",
    "import matplotlib.pyplot as plt\n",
    " \n",
    "# Import the yfinance. If you get module not found error the run !pip install yfiannce from your Jupyter notebook\n",
    "import yfinance as yf  \n",
    " \n",
    "# Get the data of the stock AAPL\n",
    "data = yf.download('AAPL','2016-01-01','2018-01-01')\n",
    " \n",
    "# Plot the close price of the AAPL\n",
    "data.Close.plot()\n",
    "plt.show()"
   ]
  },
  {
   "cell_type": "code",
   "execution_count": 5,
   "metadata": {},
   "outputs": [],
   "source": [
    "from yahoo_finance import Share"
   ]
  },
  {
   "cell_type": "code",
   "execution_count": 35,
   "metadata": {},
   "outputs": [],
   "source": [
    "import yfinance as yf\n"
   ]
  },
  {
   "cell_type": "code",
   "execution_count": null,
   "metadata": {},
   "outputs": [],
   "source": [
    "import yfinance as yf"
   ]
  },
  {
   "cell_type": "code",
   "execution_count": 11,
   "metadata": {},
   "outputs": [],
   "source": [
    "import yfinance as yf"
   ]
  },
  {
   "cell_type": "code",
   "execution_count": 12,
   "metadata": {},
   "outputs": [
    {
     "name": "stdout",
     "output_type": "stream",
     "text": [
      "[*********************100%***********************]  1 of 1 completed\n"
     ]
    },
    {
     "data": {
      "image/png": "[encoded data removed]",
      "text/plain": [
       "<Figure size 432x288 with 1 Axes>"
      ]
     },
     "metadata": {
      "needs_background": "light"
     },
     "output_type": "display_data"
    }
   ],
   "source": [
    "# Import the plotting library\n",
    "import matplotlib.pyplot as plt\n",
    " \n",
    "# Import the yfinance. If you get module not found error the run !pip install yfiannce from your Jupyter notebook\n",
    "import yfinance as yf  \n",
    " \n",
    "# Get the data of the stock AAPL\n",
    "data = yf.download('AAPL','2016-01-01','2018-01-01')\n",
    " \n",
    "# Plot the close price of the AAPL\n",
    "data.Close.plot()\n",
    "plt.show()"
   ]
  },
  {
   "cell_type": "code",
   "execution_count": 13,
   "metadata": {},
   "outputs": [
    {
     "name": "stdout",
     "output_type": "stream",
     "text": [
      "[*********************100%***********************]  2 of 2 completed\n"
     ]
    },
    {
     "data": {
      "image/png": "[encoded data removed]",
      "text/plain": [
       "<Figure size 432x288 with 1 Axes>"
      ]
     },
     "metadata": {
      "needs_background": "light"
     },
     "output_type": "display_data"
    }
   ],
   "source": [
    "data2 = yf.download(\"SPY AAPL\", start=\"2017-01-01\", end=\"2017-04-30\")\n",
    "data2.Close.plot()\n",
    "plt.show()"
   ]
  },
  {
   "cell_type": "code",
   "execution_count": 31,
   "metadata": {},
   "outputs": [],
   "source": [
    "stocks = {'ss':10, 'up':20, 'ds':35}\n",
    "def stock_analyzer():\n",
    "    for stock, price in enumerate(stocks):\n",
    "        yield(stock,price)"
   ]
  },
  {
   "cell_type": "code",
   "execution_count": 32,
   "metadata": {},
   "outputs": [],
   "source": [
    "yieldstocks = stock_analyzer()"
   ]
  },
  {
   "cell_type": "code",
   "execution_count": 33,
   "metadata": {},
   "outputs": [],
   "source": [
    "yield1 = list(yieldstocks)"
   ]
  },
  {
   "cell_type": "code",
   "execution_count": 34,
   "metadata": {},
   "outputs": [
    {
     "data": {
      "text/plain": [
       "[(0, 'ss'), (1, 'up'), (2, 'ds')]"
      ]
     },
     "execution_count": 34,
     "metadata": {},
     "output_type": "execute_result"
    }
   ],
   "source": [
    "yield1"
   ]
  },
  {
   "cell_type": "code",
   "execution_count": 73,
   "metadata": {},
   "outputs": [],
   "source": [
    "msft = yf.Ticker(\"MSFT\")\n",
    "\n",
    "# get stock info\n",
    "msft.info\n",
    "\n",
    "# get historical market data\n",
    "hist = msft.history(period=\"max\")\n",
    "\n",
    "# show actions (dividends, splits)\n",
    "msft.actions\n",
    "\n",
    "# show dividends\n",
    "msft.dividends\n",
    "\n",
    "# show splits\n",
    "msft.splits\n",
    "\n",
    "# show financials\n",
    "msft.financials\n",
    "msft.quarterly_financials\n",
    "\n",
    "# show balance heet\n",
    "msft.balance_sheet\n",
    "msft.quarterly_balance_sheet\n",
    "\n",
    "# show cashflow\n",
    "msft.cashflow\n",
    "msft.quarterly_cashflow\n",
    "\n",
    "# show earnings\n",
    "msft.earnings\n",
    "msft.quarterly_earnings\n",
    "\n",
    "# show sustainability\n",
    "msft.sustainability\n",
    "\n",
    "# show analysts recommendations\n",
    "msft.recommendations\n",
    "\n",
    "# show next event (earnings, etc)\n",
    "msft.calendar\n",
    "\n",
    "# show options expirations\n",
    "msft.options\n",
    "\n",
    "# get option chain for specific expiration\n",
    "opt = msft.option_chain('2019-11-21')\n",
    "# data available via: opt.calls, opt.puts"
   ]
  },
  {
   "cell_type": "code",
   "execution_count": 74,
   "metadata": {},
   "outputs": [
    {
     "data": {
      "text/plain": [
       "{'zip': '98052',\n",
       " 'sector': 'Technology',\n",
       " 'fullTimeEmployees': 144000,\n",
       " 'longBusinessSummary': \"Microsoft Corporation develops, licenses, and supports software, services, devices, and solutions worldwide. The company's Productivity and Business Processes segment offers Office, Exchange, SharePoint, Microsoft Teams, Office 365 Security and Compliance, and Skype for Business, as well as related Client Access Licenses (CAL); and Skype, Outlook.com, and OneDrive. It also provides LinkedIn that includes Talent and marketing solutions, and subscriptions; and Dynamics 365, a set of cloud-based and on-premises business solutions for small and medium businesses, large organizations, and divisions of enterprises. The company's Intelligent Cloud segment licenses SQL and Windows Servers, Visual Studio, System Center, and related CALs; GitHub that provides a collaboration platform and code hosting service for developers; and Azure, a cloud platform. It also provides support services and Microsoft consulting services to assist customers in developing, deploying, and managing Microsoft server and desktop solutions; and training and certification to developers and IT professionals on various Microsoft products. The company's More Personal Computing segment offers Windows OEM licensing and other non-volume licensing of the Windows operating system; Windows Commercial comprising volume licensing of the Windows operating system, Windows cloud services, and other Windows commercial offerings; patent licensing; Windows Internet of Things; and MSN advertising. It also provides Microsoft Surface, PC accessories, and other intelligent devices; Gaming, including Xbox hardware, and Xbox software and services; video games and third-party video game royalties; and Search, including Bing and Microsoft advertising. The company sells its products through distributors and resellers; and directly through digital marketplaces, online stores, and retail stores. It has strategic partnerships with Humana Inc. and Nokia. The company was founded in 1975 and is headquartered in Redmond, Washington.\",\n",
       " 'city': 'Redmond',\n",
       " 'phone': '425-882-8080',\n",
       " 'state': 'WA',\n",
       " 'country': 'United States',\n",
       " 'companyOfficers': [],\n",
       " 'website': 'http://www.microsoft.com',\n",
       " 'maxAge': 1,\n",
       " 'address1': 'One Microsoft Way',\n",
       " 'fax': '425-706-7329',\n",
       " 'industry': 'Business Software & Services',\n",
       " 'previousClose': 148.06,\n",
       " 'regularMarketOpen': 148.93,\n",
       " 'twoHundredDayAverage': 135.91536,\n",
       " 'trailingAnnualDividendYield': 0.012765096,\n",
       " 'payoutRatio': 0.3472,\n",
       " 'volume24Hr': None,\n",
       " 'regularMarketDayHigh': 149.99,\n",
       " 'navPrice': None,\n",
       " 'averageDailyVolume10Day': 18236900,\n",
       " 'totalAssets': None,\n",
       " 'regularMarketPreviousClose': 148.06,\n",
       " 'fiftyDayAverage': 141.338,\n",
       " 'trailingAnnualDividendRate': 1.89,\n",
       " 'open': 148.93,\n",
       " 'averageVolume10days': 18236900,\n",
       " 'expireDate': None,\n",
       " 'yield': None,\n",
       " 'algorithm': None,\n",
       " 'dividendRate': 2.04,\n",
       " 'exDividendDate': 1574208000,\n",
       " 'beta': 1.229776,\n",
       " 'circulatingSupply': None,\n",
       " 'startDate': None,\n",
       " 'regularMarketDayLow': 148.27,\n",
       " 'priceHint': 2,\n",
       " 'currency': 'USD',\n",
       " 'trailingPE': 28.296227,\n",
       " 'regularMarketVolume': 23508807,\n",
       " 'lastMarket': None,\n",
       " 'maxSupply': None,\n",
       " 'openInterest': None,\n",
       " 'marketCap': 1144092622848,\n",
       " 'volumeAllCurrencies': None,\n",
       " 'strikePrice': None,\n",
       " 'averageVolume': 22768939,\n",
       " 'priceToSalesTrailing12Months': None,\n",
       " 'dayLow': 148.27,\n",
       " 'ask': 149.97,\n",
       " 'ytdReturn': None,\n",
       " 'askSize': 1000,\n",
       " 'volume': 23508807,\n",
       " 'fiftyTwoWeekHigh': 149.99,\n",
       " 'forwardPE': 24.747524,\n",
       " 'fromCurrency': None,\n",
       " 'fiveYearAvgDividendYield': 2.09,\n",
       " 'fiftyTwoWeekLow': 93.96,\n",
       " 'bid': 149.9,\n",
       " 'tradeable': True,\n",
       " 'dividendYield': 0.0138,\n",
       " 'bidSize': 1100,\n",
       " 'dayHigh': 149.99,\n",
       " 'exchange': 'NMS',\n",
       " 'shortName': 'Microsoft Corporation',\n",
       " 'longName': 'Microsoft Corporation',\n",
       " 'exchangeTimezoneName': 'America/New_York',\n",
       " 'exchangeTimezoneShortName': 'EST',\n",
       " 'isEsgPopulated': True,\n",
       " 'gmtOffSetMilliseconds': '-18000000',\n",
       " 'underlyingSymbol': None,\n",
       " 'quoteType': 'EQUITY',\n",
       " 'symbol': 'MSFT',\n",
       " 'underlyingExchangeSymbol': None,\n",
       " 'headSymbol': None,\n",
       " 'messageBoardId': 'finmb_21835',\n",
       " 'uuid': 'b004b3ec-de24-385e-b2c1-923f10d3fb62',\n",
       " 'market': 'us_market',\n",
       " 'annualHoldingsTurnover': None,\n",
       " 'enterpriseToRevenue': 8.42,\n",
       " 'beta3Year': None,\n",
       " 'profitMargins': 0.31656,\n",
       " 'enterpriseToEbitda': 19.035,\n",
       " '52WeekChange': 0.41521692,\n",
       " 'morningStarRiskRating': None,\n",
       " 'forwardEps': 6.06,\n",
       " 'revenueQuarterlyGrowth': None,\n",
       " 'sharesOutstanding': 7695349760,\n",
       " 'fundInceptionDate': None,\n",
       " 'annualReportExpenseRatio': None,\n",
       " 'bookValue': 13.893,\n",
       " 'sharesShort': 61828079,\n",
       " 'sharesPercentSharesOut': 0.0081,\n",
       " 'fundFamily': None,\n",
       " 'lastFiscalYearEnd': 1561852800,\n",
       " 'heldPercentInstitutions': 0.74697995,\n",
       " 'netIncomeToCommon': 41094000640,\n",
       " 'trailingEps': 5.3,\n",
       " 'lastDividendValue': None,\n",
       " 'SandP52WeekChange': 0.15085125,\n",
       " 'priceToBook': 10.794645,\n",
       " 'heldPercentInsiders': 0.014090001,\n",
       " 'nextFiscalYearEnd': 1625011200,\n",
       " 'mostRecentQuarter': 1569801600,\n",
       " 'shortRatio': 2.55,\n",
       " 'sharesShortPreviousMonthDate': 1569801600,\n",
       " 'floatShares': 7518264225,\n",
       " 'enterpriseValue': 1093052989440,\n",
       " 'threeYearAverageReturn': None,\n",
       " 'lastSplitDate': 1045526400,\n",
       " 'lastSplitFactor': '1/2',\n",
       " 'legalType': None,\n",
       " 'morningStarOverallRating': None,\n",
       " 'earningsQuarterlyGrowth': 0.21,\n",
       " 'dateShortInterest': 1572480000,\n",
       " 'pegRatio': 1.89,\n",
       " 'lastCapGain': None,\n",
       " 'shortPercentOfFloat': 0.0081,\n",
       " 'sharesShortPriorMonth': 53037374,\n",
       " 'category': None,\n",
       " 'fiveYearAverageReturn': None}"
      ]
     },
     "execution_count": 74,
     "metadata": {},
     "output_type": "execute_result"
    }
   ],
   "source": [
    "msft.info"
   ]
  },
  {
   "cell_type": "code",
   "execution_count": 44,
   "metadata": {},
   "outputs": [],
   "source": [
    "hist = msft.history(period=\"max\")"
   ]
  },
  {
   "cell_type": "code",
   "execution_count": 45,
   "metadata": {},
   "outputs": [
    {
     "data": {
      "text/html": [
       "<div>\n",
       "<style scoped>\n",
       "    .dataframe tbody tr th:only-of-type {\n",
       "        vertical-align: middle;\n",
       "    }\n",
       "\n",
       "    .dataframe tbody tr th {\n",
       "        vertical-align: top;\n",
       "    }\n",
       "\n",
       "    .dataframe thead th {\n",
       "        text-align: right;\n",
       "    }\n",
       "</style>\n",
       "<table border=\"1\" class=\"dataframe\">\n",
       "  <thead>\n",
       "    <tr style=\"text-align: right;\">\n",
       "      <th></th>\n",
       "      <th>Open</th>\n",
       "      <th>High</th>\n",
       "      <th>Low</th>\n",
       "      <th>Close</th>\n",
       "      <th>Volume</th>\n",
       "      <th>Dividends</th>\n",
       "      <th>Stock Splits</th>\n",
       "    </tr>\n",
       "    <tr>\n",
       "      <th>Date</th>\n",
       "      <th></th>\n",
       "      <th></th>\n",
       "      <th></th>\n",
       "      <th></th>\n",
       "      <th></th>\n",
       "      <th></th>\n",
       "      <th></th>\n",
       "    </tr>\n",
       "  </thead>\n",
       "  <tbody>\n",
       "    <tr>\n",
       "      <th>1986-03-13</th>\n",
       "      <td>0.06</td>\n",
       "      <td>0.07</td>\n",
       "      <td>0.06</td>\n",
       "      <td>0.06</td>\n",
       "      <td>1031788800</td>\n",
       "      <td>0.0</td>\n",
       "      <td>0.0</td>\n",
       "    </tr>\n",
       "    <tr>\n",
       "      <th>1986-03-14</th>\n",
       "      <td>0.06</td>\n",
       "      <td>0.07</td>\n",
       "      <td>0.06</td>\n",
       "      <td>0.07</td>\n",
       "      <td>308160000</td>\n",
       "      <td>0.0</td>\n",
       "      <td>0.0</td>\n",
       "    </tr>\n",
       "    <tr>\n",
       "      <th>1986-03-17</th>\n",
       "      <td>0.07</td>\n",
       "      <td>0.07</td>\n",
       "      <td>0.07</td>\n",
       "      <td>0.07</td>\n",
       "      <td>133171200</td>\n",
       "      <td>0.0</td>\n",
       "      <td>0.0</td>\n",
       "    </tr>\n",
       "    <tr>\n",
       "      <th>1986-03-18</th>\n",
       "      <td>0.07</td>\n",
       "      <td>0.07</td>\n",
       "      <td>0.06</td>\n",
       "      <td>0.06</td>\n",
       "      <td>67766400</td>\n",
       "      <td>0.0</td>\n",
       "      <td>0.0</td>\n",
       "    </tr>\n",
       "    <tr>\n",
       "      <th>1986-03-19</th>\n",
       "      <td>0.06</td>\n",
       "      <td>0.07</td>\n",
       "      <td>0.06</td>\n",
       "      <td>0.06</td>\n",
       "      <td>47894400</td>\n",
       "      <td>0.0</td>\n",
       "      <td>0.0</td>\n",
       "    </tr>\n",
       "    <tr>\n",
       "      <th>...</th>\n",
       "      <td>...</td>\n",
       "      <td>...</td>\n",
       "      <td>...</td>\n",
       "      <td>...</td>\n",
       "      <td>...</td>\n",
       "      <td>...</td>\n",
       "      <td>...</td>\n",
       "    </tr>\n",
       "    <tr>\n",
       "      <th>2019-11-11</th>\n",
       "      <td>145.34</td>\n",
       "      <td>146.42</td>\n",
       "      <td>144.73</td>\n",
       "      <td>146.11</td>\n",
       "      <td>14362600</td>\n",
       "      <td>0.0</td>\n",
       "      <td>0.0</td>\n",
       "    </tr>\n",
       "    <tr>\n",
       "      <th>2019-11-12</th>\n",
       "      <td>146.28</td>\n",
       "      <td>147.57</td>\n",
       "      <td>146.06</td>\n",
       "      <td>147.07</td>\n",
       "      <td>18641600</td>\n",
       "      <td>0.0</td>\n",
       "      <td>0.0</td>\n",
       "    </tr>\n",
       "    <tr>\n",
       "      <th>2019-11-13</th>\n",
       "      <td>146.74</td>\n",
       "      <td>147.46</td>\n",
       "      <td>146.28</td>\n",
       "      <td>147.31</td>\n",
       "      <td>16919200</td>\n",
       "      <td>0.0</td>\n",
       "      <td>0.0</td>\n",
       "    </tr>\n",
       "    <tr>\n",
       "      <th>2019-11-14</th>\n",
       "      <td>147.02</td>\n",
       "      <td>148.41</td>\n",
       "      <td>147.00</td>\n",
       "      <td>148.06</td>\n",
       "      <td>19729800</td>\n",
       "      <td>0.0</td>\n",
       "      <td>0.0</td>\n",
       "    </tr>\n",
       "    <tr>\n",
       "      <th>2019-11-15</th>\n",
       "      <td>148.93</td>\n",
       "      <td>149.99</td>\n",
       "      <td>148.27</td>\n",
       "      <td>149.97</td>\n",
       "      <td>23485700</td>\n",
       "      <td>0.0</td>\n",
       "      <td>0.0</td>\n",
       "    </tr>\n",
       "  </tbody>\n",
       "</table>\n",
       "<p>8491 rows × 7 columns</p>\n",
       "</div>"
      ],
      "text/plain": [
       "              Open    High     Low   Close      Volume  Dividends  \\\n",
       "Date                                                                \n",
       "1986-03-13    0.06    0.07    0.06    0.06  1031788800        0.0   \n",
       "1986-03-14    0.06    0.07    0.06    0.07   308160000        0.0   \n",
       "1986-03-17    0.07    0.07    0.07    0.07   133171200        0.0   \n",
       "1986-03-18    0.07    0.07    0.06    0.06    67766400        0.0   \n",
       "1986-03-19    0.06    0.07    0.06    0.06    47894400        0.0   \n",
       "...            ...     ...     ...     ...         ...        ...   \n",
       "2019-11-11  145.34  146.42  144.73  146.11    14362600        0.0   \n",
       "2019-11-12  146.28  147.57  146.06  147.07    18641600        0.0   \n",
       "2019-11-13  146.74  147.46  146.28  147.31    16919200        0.0   \n",
       "2019-11-14  147.02  148.41  147.00  148.06    19729800        0.0   \n",
       "2019-11-15  148.93  149.99  148.27  149.97    23485700        0.0   \n",
       "\n",
       "            Stock Splits  \n",
       "Date                      \n",
       "1986-03-13           0.0  \n",
       "1986-03-14           0.0  \n",
       "1986-03-17           0.0  \n",
       "1986-03-18           0.0  \n",
       "1986-03-19           0.0  \n",
       "...                  ...  \n",
       "2019-11-11           0.0  \n",
       "2019-11-12           0.0  \n",
       "2019-11-13           0.0  \n",
       "2019-11-14           0.0  \n",
       "2019-11-15           0.0  \n",
       "\n",
       "[8491 rows x 7 columns]"
      ]
     },
     "execution_count": 45,
     "metadata": {},
     "output_type": "execute_result"
    }
   ],
   "source": [
    "hist"
   ]
  },
  {
   "cell_type": "code",
   "execution_count": 47,
   "metadata": {},
   "outputs": [],
   "source": [
    "import pandas as pd\n",
    "histdf = pd.DataFrame(data=hist)"
   ]
  },
  {
   "cell_type": "code",
   "execution_count": 55,
   "metadata": {},
   "outputs": [
    {
     "data": {
      "text/plain": [
       "Open            6.000000e-02\n",
       "High            7.000000e-02\n",
       "Low             6.000000e-02\n",
       "Close           6.000000e-02\n",
       "Volume          1.031789e+09\n",
       "Dividends       0.000000e+00\n",
       "Stock Splits    0.000000e+00\n",
       "Name: 1986-03-13 00:00:00, dtype: float64"
      ]
     },
     "execution_count": 55,
     "metadata": {},
     "output_type": "execute_result"
    }
   ],
   "source": [
    "histdf.iloc[0]"
   ]
  },
  {
   "cell_type": "code",
   "execution_count": 49,
   "metadata": {},
   "outputs": [
    {
     "data": {
      "text/plain": [
       "<matplotlib.axes._subplots.AxesSubplot at 0x274270ff198>"
      ]
     },
     "execution_count": 49,
     "metadata": {},
     "output_type": "execute_result"
    },
    {
     "data": {
      "image/png": "[encoded data removed]",
      "text/plain": [
       "<Figure size 432x288 with 1 Axes>"
      ]
     },
     "metadata": {
      "needs_background": "light"
     },
     "output_type": "display_data"
    }
   ],
   "source": [
    "histdf.plot()"
   ]
  },
  {
   "cell_type": "code",
   "execution_count": 56,
   "metadata": {},
   "outputs": [
    {
     "data": {
      "text/html": [
       "<div>\n",
       "<style scoped>\n",
       "    .dataframe tbody tr th:only-of-type {\n",
       "        vertical-align: middle;\n",
       "    }\n",
       "\n",
       "    .dataframe tbody tr th {\n",
       "        vertical-align: top;\n",
       "    }\n",
       "\n",
       "    .dataframe thead th {\n",
       "        text-align: right;\n",
       "    }\n",
       "</style>\n",
       "<table border=\"1\" class=\"dataframe\">\n",
       "  <thead>\n",
       "    <tr style=\"text-align: right;\">\n",
       "      <th></th>\n",
       "      <th>Open</th>\n",
       "      <th>High</th>\n",
       "      <th>Low</th>\n",
       "      <th>Close</th>\n",
       "      <th>Volume</th>\n",
       "      <th>Dividends</th>\n",
       "      <th>Stock Splits</th>\n",
       "    </tr>\n",
       "  </thead>\n",
       "  <tbody>\n",
       "    <tr>\n",
       "      <th>count</th>\n",
       "      <td>8491.000000</td>\n",
       "      <td>8491.000000</td>\n",
       "      <td>8491.000000</td>\n",
       "      <td>8491.000000</td>\n",
       "      <td>8.491000e+03</td>\n",
       "      <td>8491.000000</td>\n",
       "      <td>8491.000000</td>\n",
       "    </tr>\n",
       "    <tr>\n",
       "      <th>mean</th>\n",
       "      <td>22.970645</td>\n",
       "      <td>23.202159</td>\n",
       "      <td>22.731675</td>\n",
       "      <td>22.973821</td>\n",
       "      <td>6.061501e+07</td>\n",
       "      <td>0.002015</td>\n",
       "      <td>0.002002</td>\n",
       "    </tr>\n",
       "    <tr>\n",
       "      <th>std</th>\n",
       "      <td>27.109246</td>\n",
       "      <td>27.317271</td>\n",
       "      <td>26.864957</td>\n",
       "      <td>27.106118</td>\n",
       "      <td>3.890704e+07</td>\n",
       "      <td>0.040045</td>\n",
       "      <td>0.061839</td>\n",
       "    </tr>\n",
       "    <tr>\n",
       "      <th>min</th>\n",
       "      <td>0.060000</td>\n",
       "      <td>0.060000</td>\n",
       "      <td>0.060000</td>\n",
       "      <td>0.060000</td>\n",
       "      <td>2.304000e+06</td>\n",
       "      <td>0.000000</td>\n",
       "      <td>0.000000</td>\n",
       "    </tr>\n",
       "    <tr>\n",
       "      <th>25%</th>\n",
       "      <td>2.160000</td>\n",
       "      <td>2.190000</td>\n",
       "      <td>2.140000</td>\n",
       "      <td>2.160000</td>\n",
       "      <td>3.678420e+07</td>\n",
       "      <td>0.000000</td>\n",
       "      <td>0.000000</td>\n",
       "    </tr>\n",
       "    <tr>\n",
       "      <th>50%</th>\n",
       "      <td>18.480000</td>\n",
       "      <td>18.680000</td>\n",
       "      <td>18.300000</td>\n",
       "      <td>18.460000</td>\n",
       "      <td>5.384320e+07</td>\n",
       "      <td>0.000000</td>\n",
       "      <td>0.000000</td>\n",
       "    </tr>\n",
       "    <tr>\n",
       "      <th>75%</th>\n",
       "      <td>25.350000</td>\n",
       "      <td>25.680000</td>\n",
       "      <td>25.010000</td>\n",
       "      <td>25.335000</td>\n",
       "      <td>7.423750e+07</td>\n",
       "      <td>0.000000</td>\n",
       "      <td>0.000000</td>\n",
       "    </tr>\n",
       "    <tr>\n",
       "      <th>max</th>\n",
       "      <td>148.930000</td>\n",
       "      <td>149.990000</td>\n",
       "      <td>148.270000</td>\n",
       "      <td>149.970000</td>\n",
       "      <td>1.031789e+09</td>\n",
       "      <td>3.080000</td>\n",
       "      <td>2.000000</td>\n",
       "    </tr>\n",
       "  </tbody>\n",
       "</table>\n",
       "</div>"
      ],
      "text/plain": [
       "              Open         High          Low        Close        Volume  \\\n",
       "count  8491.000000  8491.000000  8491.000000  8491.000000  8.491000e+03   \n",
       "mean     22.970645    23.202159    22.731675    22.973821  6.061501e+07   \n",
       "std      27.109246    27.317271    26.864957    27.106118  3.890704e+07   \n",
       "min       0.060000     0.060000     0.060000     0.060000  2.304000e+06   \n",
       "25%       2.160000     2.190000     2.140000     2.160000  3.678420e+07   \n",
       "50%      18.480000    18.680000    18.300000    18.460000  5.384320e+07   \n",
       "75%      25.350000    25.680000    25.010000    25.335000  7.423750e+07   \n",
       "max     148.930000   149.990000   148.270000   149.970000  1.031789e+09   \n",
       "\n",
       "         Dividends  Stock Splits  \n",
       "count  8491.000000   8491.000000  \n",
       "mean      0.002015      0.002002  \n",
       "std       0.040045      0.061839  \n",
       "min       0.000000      0.000000  \n",
       "25%       0.000000      0.000000  \n",
       "50%       0.000000      0.000000  \n",
       "75%       0.000000      0.000000  \n",
       "max       3.080000      2.000000  "
      ]
     },
     "execution_count": 56,
     "metadata": {},
     "output_type": "execute_result"
    }
   ],
   "source": [
    "histdf.describe()"
   ]
  },
  {
   "cell_type": "code",
   "execution_count": 57,
   "metadata": {},
   "outputs": [
    {
     "data": {
      "text/plain": [
       "Date\n",
       "1986-03-13      0.06\n",
       "1986-03-14      0.06\n",
       "1986-03-17      0.07\n",
       "1986-03-18      0.07\n",
       "1986-03-19      0.06\n",
       "               ...  \n",
       "2019-11-11    145.34\n",
       "2019-11-12    146.28\n",
       "2019-11-13    146.74\n",
       "2019-11-14    147.02\n",
       "2019-11-15    148.93\n",
       "Name: Open, Length: 8491, dtype: float64"
      ]
     },
     "execution_count": 57,
     "metadata": {},
     "output_type": "execute_result"
    }
   ],
   "source": [
    "histdf['Open']"
   ]
  },
  {
   "cell_type": "code",
   "execution_count": 59,
   "metadata": {},
   "outputs": [
    {
     "data": {
      "text/plain": [
       "Date\n",
       "1986-03-13      0.07\n",
       "1986-03-14      0.07\n",
       "1986-03-17      0.07\n",
       "1986-03-18      0.07\n",
       "1986-03-19      0.07\n",
       "               ...  \n",
       "2019-11-11    146.42\n",
       "2019-11-12    147.57\n",
       "2019-11-13    147.46\n",
       "2019-11-14    148.41\n",
       "2019-11-15    149.99\n",
       "Name: High, Length: 8491, dtype: float64"
      ]
     },
     "execution_count": 59,
     "metadata": {},
     "output_type": "execute_result"
    }
   ],
   "source": [
    "histdf['High']"
   ]
  },
  {
   "cell_type": "code",
   "execution_count": 61,
   "metadata": {},
   "outputs": [
    {
     "data": {
      "text/plain": [
       "Date\n",
       "1986-03-13    1031788800\n",
       "1986-03-14     308160000\n",
       "1986-03-17     133171200\n",
       "1986-03-18      67766400\n",
       "1986-03-19      47894400\n",
       "                 ...    \n",
       "2019-11-11      14362600\n",
       "2019-11-12      18641600\n",
       "2019-11-13      16919200\n",
       "2019-11-14      19729800\n",
       "2019-11-15      23485700\n",
       "Name: Volume, Length: 8491, dtype: int64"
      ]
     },
     "execution_count": 61,
     "metadata": {},
     "output_type": "execute_result"
    }
   ],
   "source": [
    "histdf['Volume']"
   ]
  },
  {
   "cell_type": "code",
   "execution_count": 71,
   "metadata": {},
   "outputs": [
    {
     "data": {
      "text/html": [
       "<div>\n",
       "<style scoped>\n",
       "    .dataframe tbody tr th:only-of-type {\n",
       "        vertical-align: middle;\n",
       "    }\n",
       "\n",
       "    .dataframe tbody tr th {\n",
       "        vertical-align: top;\n",
       "    }\n",
       "\n",
       "    .dataframe thead th {\n",
       "        text-align: right;\n",
       "    }\n",
       "</style>\n",
       "<table border=\"1\" class=\"dataframe\">\n",
       "  <thead>\n",
       "    <tr style=\"text-align: right;\">\n",
       "      <th></th>\n",
       "      <th>Volume</th>\n",
       "      <th>Open</th>\n",
       "      <th>Close</th>\n",
       "    </tr>\n",
       "    <tr>\n",
       "      <th>Date</th>\n",
       "      <th></th>\n",
       "      <th></th>\n",
       "      <th></th>\n",
       "    </tr>\n",
       "  </thead>\n",
       "  <tbody>\n",
       "    <tr>\n",
       "      <th>1986-03-13</th>\n",
       "      <td>1031788800</td>\n",
       "      <td>0.06</td>\n",
       "      <td>0.06</td>\n",
       "    </tr>\n",
       "    <tr>\n",
       "      <th>1986-03-14</th>\n",
       "      <td>308160000</td>\n",
       "      <td>0.06</td>\n",
       "      <td>0.07</td>\n",
       "    </tr>\n",
       "    <tr>\n",
       "      <th>1986-03-17</th>\n",
       "      <td>133171200</td>\n",
       "      <td>0.07</td>\n",
       "      <td>0.07</td>\n",
       "    </tr>\n",
       "    <tr>\n",
       "      <th>1986-03-18</th>\n",
       "      <td>67766400</td>\n",
       "      <td>0.07</td>\n",
       "      <td>0.06</td>\n",
       "    </tr>\n",
       "    <tr>\n",
       "      <th>1986-03-19</th>\n",
       "      <td>47894400</td>\n",
       "      <td>0.06</td>\n",
       "      <td>0.06</td>\n",
       "    </tr>\n",
       "    <tr>\n",
       "      <th>...</th>\n",
       "      <td>...</td>\n",
       "      <td>...</td>\n",
       "      <td>...</td>\n",
       "    </tr>\n",
       "    <tr>\n",
       "      <th>2019-11-11</th>\n",
       "      <td>14362600</td>\n",
       "      <td>145.34</td>\n",
       "      <td>146.11</td>\n",
       "    </tr>\n",
       "    <tr>\n",
       "      <th>2019-11-12</th>\n",
       "      <td>18641600</td>\n",
       "      <td>146.28</td>\n",
       "      <td>147.07</td>\n",
       "    </tr>\n",
       "    <tr>\n",
       "      <th>2019-11-13</th>\n",
       "      <td>16919200</td>\n",
       "      <td>146.74</td>\n",
       "      <td>147.31</td>\n",
       "    </tr>\n",
       "    <tr>\n",
       "      <th>2019-11-14</th>\n",
       "      <td>19729800</td>\n",
       "      <td>147.02</td>\n",
       "      <td>148.06</td>\n",
       "    </tr>\n",
       "    <tr>\n",
       "      <th>2019-11-15</th>\n",
       "      <td>23485700</td>\n",
       "      <td>148.93</td>\n",
       "      <td>149.97</td>\n",
       "    </tr>\n",
       "  </tbody>\n",
       "</table>\n",
       "<p>8491 rows × 3 columns</p>\n",
       "</div>"
      ],
      "text/plain": [
       "                Volume    Open   Close\n",
       "Date                                  \n",
       "1986-03-13  1031788800    0.06    0.06\n",
       "1986-03-14   308160000    0.06    0.07\n",
       "1986-03-17   133171200    0.07    0.07\n",
       "1986-03-18    67766400    0.07    0.06\n",
       "1986-03-19    47894400    0.06    0.06\n",
       "...                ...     ...     ...\n",
       "2019-11-11    14362600  145.34  146.11\n",
       "2019-11-12    18641600  146.28  147.07\n",
       "2019-11-13    16919200  146.74  147.31\n",
       "2019-11-14    19729800  147.02  148.06\n",
       "2019-11-15    23485700  148.93  149.97\n",
       "\n",
       "[8491 rows x 3 columns]"
      ]
     },
     "execution_count": 71,
     "metadata": {},
     "output_type": "execute_result"
    }
   ],
   "source": [
    "histdf[['Volume','Open', 'Close']]"
   ]
  },
  {
   "cell_type": "code",
   "execution_count": 69,
   "metadata": {},
   "outputs": [
    {
     "data": {
      "text/plain": [
       "-0.3296974101912954"
      ]
     },
     "execution_count": 69,
     "metadata": {},
     "output_type": "execute_result"
    }
   ],
   "source": [
    "histdf['Volume'].corr(histdf['Open']) #corre"
   ]
  },
  {
   "cell_type": "code",
   "execution_count": 75,
   "metadata": {},
   "outputs": [
    {
     "data": {
      "text/plain": [
       "<matplotlib.axes._subplots.AxesSubplot at 0x27428412d30>"
      ]
     },
     "execution_count": 75,
     "metadata": {},
     "output_type": "execute_result"
    },
    {
     "data": {
      "image/png": "[encoded data removed]",
      "text/plain": [
       "<Figure size 432x288 with 1 Axes>"
      ]
     },
     "metadata": {
      "needs_background": "light"
     },
     "output_type": "display_data"
    }
   ],
   "source": [
    "histdf[['Volume','Open', 'Close']].plot()"
   ]
  },
  {
   "cell_type": "code",
   "execution_count": 78,
   "metadata": {},
   "outputs": [],
   "source": [
    "btc = yf.Ticker(\"BTC-USD\")"
   ]
  },
  {
   "cell_type": "code",
   "execution_count": 79,
   "metadata": {},
   "outputs": [],
   "source": [
    "hist = btc.history(period=\"max\")"
   ]
  },
  {
   "cell_type": "code",
   "execution_count": 80,
   "metadata": {},
   "outputs": [
    {
     "data": {
      "text/html": [
       "<div>\n",
       "<style scoped>\n",
       "    .dataframe tbody tr th:only-of-type {\n",
       "        vertical-align: middle;\n",
       "    }\n",
       "\n",
       "    .dataframe tbody tr th {\n",
       "        vertical-align: top;\n",
       "    }\n",
       "\n",
       "    .dataframe thead th {\n",
       "        text-align: right;\n",
       "    }\n",
       "</style>\n",
       "<table border=\"1\" class=\"dataframe\">\n",
       "  <thead>\n",
       "    <tr style=\"text-align: right;\">\n",
       "      <th></th>\n",
       "      <th>Open</th>\n",
       "      <th>High</th>\n",
       "      <th>Low</th>\n",
       "      <th>Close</th>\n",
       "      <th>Volume</th>\n",
       "      <th>Dividends</th>\n",
       "      <th>Stock Splits</th>\n",
       "    </tr>\n",
       "    <tr>\n",
       "      <th>Date</th>\n",
       "      <th></th>\n",
       "      <th></th>\n",
       "      <th></th>\n",
       "      <th></th>\n",
       "      <th></th>\n",
       "      <th></th>\n",
       "      <th></th>\n",
       "    </tr>\n",
       "  </thead>\n",
       "  <tbody>\n",
       "    <tr>\n",
       "      <th>2014-09-17</th>\n",
       "      <td>465.86</td>\n",
       "      <td>468.17</td>\n",
       "      <td>452.42</td>\n",
       "      <td>457.33</td>\n",
       "      <td>21056800</td>\n",
       "      <td>0</td>\n",
       "      <td>0</td>\n",
       "    </tr>\n",
       "    <tr>\n",
       "      <th>2014-09-18</th>\n",
       "      <td>456.86</td>\n",
       "      <td>456.86</td>\n",
       "      <td>413.10</td>\n",
       "      <td>424.44</td>\n",
       "      <td>34483200</td>\n",
       "      <td>0</td>\n",
       "      <td>0</td>\n",
       "    </tr>\n",
       "    <tr>\n",
       "      <th>2014-09-19</th>\n",
       "      <td>424.10</td>\n",
       "      <td>427.83</td>\n",
       "      <td>384.53</td>\n",
       "      <td>394.80</td>\n",
       "      <td>37919700</td>\n",
       "      <td>0</td>\n",
       "      <td>0</td>\n",
       "    </tr>\n",
       "    <tr>\n",
       "      <th>2014-09-20</th>\n",
       "      <td>394.67</td>\n",
       "      <td>423.30</td>\n",
       "      <td>389.88</td>\n",
       "      <td>408.90</td>\n",
       "      <td>36863600</td>\n",
       "      <td>0</td>\n",
       "      <td>0</td>\n",
       "    </tr>\n",
       "    <tr>\n",
       "      <th>2014-09-21</th>\n",
       "      <td>408.08</td>\n",
       "      <td>412.43</td>\n",
       "      <td>393.18</td>\n",
       "      <td>398.82</td>\n",
       "      <td>26580100</td>\n",
       "      <td>0</td>\n",
       "      <td>0</td>\n",
       "    </tr>\n",
       "    <tr>\n",
       "      <th>...</th>\n",
       "      <td>...</td>\n",
       "      <td>...</td>\n",
       "      <td>...</td>\n",
       "      <td>...</td>\n",
       "      <td>...</td>\n",
       "      <td>...</td>\n",
       "      <td>...</td>\n",
       "    </tr>\n",
       "    <tr>\n",
       "      <th>2019-11-13</th>\n",
       "      <td>8812.03</td>\n",
       "      <td>8836.84</td>\n",
       "      <td>8761.65</td>\n",
       "      <td>8808.26</td>\n",
       "      <td>17545755404</td>\n",
       "      <td>0</td>\n",
       "      <td>0</td>\n",
       "    </tr>\n",
       "    <tr>\n",
       "      <th>2019-11-14</th>\n",
       "      <td>8811.94</td>\n",
       "      <td>8826.94</td>\n",
       "      <td>8692.55</td>\n",
       "      <td>8708.09</td>\n",
       "      <td>19084739974</td>\n",
       "      <td>0</td>\n",
       "      <td>0</td>\n",
       "    </tr>\n",
       "    <tr>\n",
       "      <th>2019-11-15</th>\n",
       "      <td>8705.71</td>\n",
       "      <td>8730.87</td>\n",
       "      <td>8484.84</td>\n",
       "      <td>8491.99</td>\n",
       "      <td>21796856471</td>\n",
       "      <td>0</td>\n",
       "      <td>0</td>\n",
       "    </tr>\n",
       "    <tr>\n",
       "      <th>2019-11-16</th>\n",
       "      <td>8491.17</td>\n",
       "      <td>8592.00</td>\n",
       "      <td>8473.97</td>\n",
       "      <td>8550.76</td>\n",
       "      <td>16495389808</td>\n",
       "      <td>0</td>\n",
       "      <td>0</td>\n",
       "    </tr>\n",
       "    <tr>\n",
       "      <th>2019-11-17</th>\n",
       "      <td>8549.32</td>\n",
       "      <td>8621.26</td>\n",
       "      <td>8511.11</td>\n",
       "      <td>8596.96</td>\n",
       "      <td>17900537856</td>\n",
       "      <td>0</td>\n",
       "      <td>0</td>\n",
       "    </tr>\n",
       "  </tbody>\n",
       "</table>\n",
       "<p>1888 rows × 7 columns</p>\n",
       "</div>"
      ],
      "text/plain": [
       "               Open     High      Low    Close       Volume  Dividends  \\\n",
       "Date                                                                     \n",
       "2014-09-17   465.86   468.17   452.42   457.33     21056800          0   \n",
       "2014-09-18   456.86   456.86   413.10   424.44     34483200          0   \n",
       "2014-09-19   424.10   427.83   384.53   394.80     37919700          0   \n",
       "2014-09-20   394.67   423.30   389.88   408.90     36863600          0   \n",
       "2014-09-21   408.08   412.43   393.18   398.82     26580100          0   \n",
       "...             ...      ...      ...      ...          ...        ...   \n",
       "2019-11-13  8812.03  8836.84  8761.65  8808.26  17545755404          0   \n",
       "2019-11-14  8811.94  8826.94  8692.55  8708.09  19084739974          0   \n",
       "2019-11-15  8705.71  8730.87  8484.84  8491.99  21796856471          0   \n",
       "2019-11-16  8491.17  8592.00  8473.97  8550.76  16495389808          0   \n",
       "2019-11-17  8549.32  8621.26  8511.11  8596.96  17900537856          0   \n",
       "\n",
       "            Stock Splits  \n",
       "Date                      \n",
       "2014-09-17             0  \n",
       "2014-09-18             0  \n",
       "2014-09-19             0  \n",
       "2014-09-20             0  \n",
       "2014-09-21             0  \n",
       "...                  ...  \n",
       "2019-11-13             0  \n",
       "2019-11-14             0  \n",
       "2019-11-15             0  \n",
       "2019-11-16             0  \n",
       "2019-11-17             0  \n",
       "\n",
       "[1888 rows x 7 columns]"
      ]
     },
     "execution_count": 80,
     "metadata": {},
     "output_type": "execute_result"
    }
   ],
   "source": [
    "hist"
   ]
  },
  {
   "cell_type": "code",
   "execution_count": 118,
   "metadata": {},
   "outputs": [
    {
     "data": {
      "text/plain": [
       "<matplotlib.axes._subplots.AxesSubplot at 0x2742a77d518>"
      ]
     },
     "execution_count": 118,
     "metadata": {},
     "output_type": "execute_result"
    },
    {
     "data": {
      "image/png": "[encoded data removed]",
      "text/plain": [
       "<Figure size 432x288 with 1 Axes>"
      ]
     },
     "metadata": {
      "needs_background": "light"
     },
     "output_type": "display_data"
    }
   ],
   "source": [
    "hist.plot()"
   ]
  },
  {
   "cell_type": "code",
   "execution_count": 111,
   "metadata": {},
   "outputs": [],
   "source": [
    "import os\n",
    "import pandas as pd\n",
    "import xlsxwriter\n",
    "from openpyxl import load_workbook\n",
    "import functools"
   ]
  },
  {
   "cell_type": "code",
   "execution_count": 110,
   "metadata": {},
   "outputs": [],
   "source": [
    "import pandas_datareader.data as web"
   ]
  },
  {
   "cell_type": "code",
   "execution_count": 117,
   "metadata": {},
   "outputs": [],
   "source": [
    "hist.to_excel(\"hist3.xlsx\")"
   ]
  },
  {
   "cell_type": "code",
   "execution_count": 115,
   "metadata": {},
   "outputs": [],
   "source": [
    "df2 = hist.copy()"
   ]
  },
  {
   "cell_type": "code",
   "execution_count": 116,
   "metadata": {},
   "outputs": [],
   "source": [
    "with pd.ExcelWriter('hist2.xlsx') as writer:  # doctest: +SKIP\n",
    "        hist.to_excel(writer, sheet_name='Sheet_name_1')\n",
    "        df2.to_excel(writer, sheet_name='Sheet_name_2')"
   ]
  },
  {
   "cell_type": "code",
   "execution_count": 119,
   "metadata": {},
   "outputs": [],
   "source": [
    "import datetime"
   ]
  },
  {
   "cell_type": "code",
   "execution_count": 126,
   "metadata": {},
   "outputs": [],
   "source": [
    "start = datetime.datetime(2015, 1, 1)"
   ]
  },
  {
   "cell_type": "code",
   "execution_count": 127,
   "metadata": {},
   "outputs": [],
   "source": [
    "end = datetime.datetime(2019, 10, 30)"
   ]
  },
  {
   "cell_type": "code",
   "execution_count": 128,
   "metadata": {},
   "outputs": [],
   "source": [
    "gdp = web.DataReader('GDP', 'fred', start, end)"
   ]
  },
  {
   "cell_type": "code",
   "execution_count": 130,
   "metadata": {},
   "outputs": [
    {
     "data": {
      "text/plain": [
       "GDP    17984.178\n",
       "Name: 2015-01-01 00:00:00, dtype: float64"
      ]
     },
     "execution_count": 130,
     "metadata": {},
     "output_type": "execute_result"
    }
   ],
   "source": [
    "gdp.loc['2015-01-01']"
   ]
  },
  {
   "cell_type": "code",
   "execution_count": 131,
   "metadata": {},
   "outputs": [],
   "source": [
    "inflation = web.DataReader(['CPIAUCSL', 'CPILFESL'], 'fred', start, end)"
   ]
  },
  {
   "cell_type": "code",
   "execution_count": null,
   "metadata": {},
   "outputs": [],
   "source": [
    "inflation.plot()"
   ]
  },
  {
   "cell_type": "code",
   "execution_count": 134,
   "metadata": {},
   "outputs": [],
   "source": [
    " from pandas_datareader import wb"
   ]
  },
  {
   "cell_type": "code",
   "execution_count": 135,
   "metadata": {},
   "outputs": [],
   "source": [
    "matches = wb.search('gdp.*capita.*const')"
   ]
  },
  {
   "cell_type": "code",
   "execution_count": 136,
   "metadata": {},
   "outputs": [
    {
     "data": {
      "text/html": [
       "<div>\n",
       "<style scoped>\n",
       "    .dataframe tbody tr th:only-of-type {\n",
       "        vertical-align: middle;\n",
       "    }\n",
       "\n",
       "    .dataframe tbody tr th {\n",
       "        vertical-align: top;\n",
       "    }\n",
       "\n",
       "    .dataframe thead th {\n",
       "        text-align: right;\n",
       "    }\n",
       "</style>\n",
       "<table border=\"1\" class=\"dataframe\">\n",
       "  <thead>\n",
       "    <tr style=\"text-align: right;\">\n",
       "      <th></th>\n",
       "      <th>id</th>\n",
       "      <th>name</th>\n",
       "      <th>unit</th>\n",
       "      <th>source</th>\n",
       "      <th>sourceNote</th>\n",
       "      <th>sourceOrganization</th>\n",
       "      <th>topics</th>\n",
       "    </tr>\n",
       "  </thead>\n",
       "  <tbody>\n",
       "    <tr>\n",
       "      <th>646</th>\n",
       "      <td>6.0.GDPpc_constant</td>\n",
       "      <td>GDP per capita, PPP (constant 2011 internation...</td>\n",
       "      <td></td>\n",
       "      <td>LAC Equity Lab</td>\n",
       "      <td>GDP per capita based on purchasing power parit...</td>\n",
       "      <td>b'World Development Indicators (World Bank)'</td>\n",
       "      <td>Economy &amp; Growth</td>\n",
       "    </tr>\n",
       "    <tr>\n",
       "      <th>9150</th>\n",
       "      <td>NY.GDP.PCAP.KD</td>\n",
       "      <td>GDP per capita (constant 2010 US$)</td>\n",
       "      <td></td>\n",
       "      <td>World Development Indicators</td>\n",
       "      <td>GDP per capita is gross domestic product divid...</td>\n",
       "      <td>b'World Bank national accounts data, and OECD ...</td>\n",
       "      <td>Economy &amp; Growth</td>\n",
       "    </tr>\n",
       "    <tr>\n",
       "      <th>9152</th>\n",
       "      <td>NY.GDP.PCAP.KN</td>\n",
       "      <td>GDP per capita (constant LCU)</td>\n",
       "      <td></td>\n",
       "      <td>World Development Indicators</td>\n",
       "      <td>GDP per capita is gross domestic product divid...</td>\n",
       "      <td>b'World Bank national accounts data, and OECD ...</td>\n",
       "      <td>Economy &amp; Growth</td>\n",
       "    </tr>\n",
       "    <tr>\n",
       "      <th>9154</th>\n",
       "      <td>NY.GDP.PCAP.PP.KD</td>\n",
       "      <td>GDP per capita, PPP (constant 2011 internation...</td>\n",
       "      <td></td>\n",
       "      <td>World Development Indicators</td>\n",
       "      <td>GDP per capita based on purchasing power parit...</td>\n",
       "      <td>b'World Bank, International Comparison Program...</td>\n",
       "      <td>Economy &amp; Growth</td>\n",
       "    </tr>\n",
       "    <tr>\n",
       "      <th>9155</th>\n",
       "      <td>NY.GDP.PCAP.PP.KD.87</td>\n",
       "      <td>GDP per capita, PPP (constant 1987 internation...</td>\n",
       "      <td></td>\n",
       "      <td>WDI Database Archives</td>\n",
       "      <td></td>\n",
       "      <td>b''</td>\n",
       "      <td></td>\n",
       "    </tr>\n",
       "  </tbody>\n",
       "</table>\n",
       "</div>"
      ],
      "text/plain": [
       "                        id                                               name  \\\n",
       "646     6.0.GDPpc_constant  GDP per capita, PPP (constant 2011 internation...   \n",
       "9150        NY.GDP.PCAP.KD                 GDP per capita (constant 2010 US$)   \n",
       "9152        NY.GDP.PCAP.KN                      GDP per capita (constant LCU)   \n",
       "9154     NY.GDP.PCAP.PP.KD  GDP per capita, PPP (constant 2011 internation...   \n",
       "9155  NY.GDP.PCAP.PP.KD.87  GDP per capita, PPP (constant 1987 internation...   \n",
       "\n",
       "     unit                        source  \\\n",
       "646                      LAC Equity Lab   \n",
       "9150       World Development Indicators   \n",
       "9152       World Development Indicators   \n",
       "9154       World Development Indicators   \n",
       "9155              WDI Database Archives   \n",
       "\n",
       "                                             sourceNote  \\\n",
       "646   GDP per capita based on purchasing power parit...   \n",
       "9150  GDP per capita is gross domestic product divid...   \n",
       "9152  GDP per capita is gross domestic product divid...   \n",
       "9154  GDP per capita based on purchasing power parit...   \n",
       "9155                                                      \n",
       "\n",
       "                                     sourceOrganization            topics  \n",
       "646        b'World Development Indicators (World Bank)'  Economy & Growth  \n",
       "9150  b'World Bank national accounts data, and OECD ...  Economy & Growth  \n",
       "9152  b'World Bank national accounts data, and OECD ...  Economy & Growth  \n",
       "9154  b'World Bank, International Comparison Program...  Economy & Growth  \n",
       "9155                                                b''                    "
      ]
     },
     "execution_count": 136,
     "metadata": {},
     "output_type": "execute_result"
    }
   ],
   "source": [
    "matches"
   ]
  },
  {
   "cell_type": "code",
   "execution_count": 137,
   "metadata": {},
   "outputs": [],
   "source": [
    "dat = wb.download(indicator='NY.GDP.PCAP.KD', country=['US', 'CA', 'MX'], start=2005, end=2008)"
   ]
  },
  {
   "cell_type": "code",
   "execution_count": 138,
   "metadata": {},
   "outputs": [],
   "source": [
    "dat = wb.download(indicator='NY.GDP.PCAP.KD', country=['US', 'CA', 'MX'], start=2005, end=2008)"
   ]
  },
  {
   "cell_type": "code",
   "execution_count": 139,
   "metadata": {},
   "outputs": [
    {
     "name": "stdout",
     "output_type": "stream",
     "text": [
      "                    NY.GDP.PCAP.KD\n",
      "country       year                \n",
      "Canada        2008    48497.560167\n",
      "              2007    48536.539413\n",
      "              2006    48014.931197\n",
      "              2005    47257.472197\n",
      "Mexico        2008     9587.636339\n",
      "              2007     9622.047957\n",
      "              2006     9547.333571\n",
      "              2005     9270.656542\n",
      "United States 2008    49319.478865\n",
      "              2007    49856.281491\n",
      "              2006    49405.767296\n",
      "              2005    48499.812376\n"
     ]
    }
   ],
   "source": [
    "print(dat)"
   ]
  },
  {
   "cell_type": "code",
   "execution_count": null,
   "metadata": {},
   "outputs": [],
   "source": [
    "from statistics import mean\n",
    "\n",
    "# QQQ data 1-1-2000 thru 10-19-2019\n",
    "q3 = { ...PASTE STOCK DATA HERE... }\n",
    "\n",
    "# total % increase in value\n",
    "(q3[-1]['adjClose'] - q3[0]['adjClose'])/q3[0]['adjClose']*100\n",
    "\n",
    "# list of close prices\n",
    "closePrice = [p['adjClose'] for p in q3]\n",
    "\n",
    "# add 5day SMA to all values\n",
    "for day in range(6,len(q3)+1):\n",
    "    q3[day-1]['5daySMA'] = round(mean(closePrice[day-5:day]),2)\n",
    "\n",
    "# set the initial EMA (exponential moving average) sample\n",
    "q3[5]['5dayEMA'] = q3[5]['5daySMA']\n",
    "# add 5day EMA to all values\n",
    "for day in range(7,len(q3)+1):\n",
    "    q3[day-1]['5dayEMA'] = round(0.33*(q3[day-1]['adjClose']-q3[day-2]['5dayEMA'])+q3[day-2]['5dayEMA'],2)\n",
    "\n",
    "# add Bollinger Band to all values\n",
    "bollingerDays = 20\n",
    "for day in range(bollingerDays,len(q3)+1):\n",
    "    q3[day-1]['20dayBB'] = round(mean(closePrice[day-bollingerDays:day]),2)\n",
    "\n",
    "# identify EMA and BB crossings, w/label 'Long' or 'Short'\n",
    "for day in range(20,len(q3)):\n",
    "    if q3[day-1]['20dayBB']<q3[day-1]['5dayEMA'] and q3[day]['20dayBB']>q3[day]['5dayEMA']:\n",
    "        q3[day]['signal'] = 'Short'\n",
    "    elif q3[day-1]['20dayBB']>q3[day-1]['5dayEMA'] and q3[day]['20dayBB']<q3[day]['5dayEMA']:\n",
    "        q3[day]['signal'] = 'Long'\n",
    "\n",
    "for year in range(2000,2020):\n",
    "    print('Year:', year)\n",
    "    # isolate yearly data\n",
    "    q3_series = [q for q in q3 if str(year) in q['date']]\n",
    "    \n",
    "    priorSignalClose = None\n",
    "    priotSignalType = None\n",
    "    gains = []\n",
    "    for q in q3_series:\n",
    "        if 'signal' in q:\n",
    "            # if this is the 1st signal encountered then continue\n",
    "            if not priorSignalClose:\n",
    "                priorSignalClose = q['adjClose']\n",
    "                priorSignalType = q['signal']\n",
    "                print(\"%s new position:%s \" % (q['date'][0:10], priorSignalType))\n",
    "                continue\n",
    "\n",
    "            if priorSignalType == 'Long':\n",
    "                gain = round((q['adjClose'] - priorSignalClose)/priorSignalClose*100,2)\n",
    "            else:\n",
    "                gain = round((priorSignalClose - q['adjClose'])/priorSignalClose*100,2)\n",
    "\n",
    "            gains.append(gain)\n",
    "            priorSignalClose = q['adjClose']\n",
    "            priorSignalType = q['signal']\n",
    "            print(\"%s gain:%s%% new position:%s\" % (q['date'][0:10], gain, priorSignalType))\n",
    "\n",
    "    print(\"%s%%\" % round(sum(gains),2))"
   ]
  },
  {
   "cell_type": "code",
   "execution_count": null,
   "metadata": {},
   "outputs": [],
   "source": []
  }
 ],
 "metadata": {
  "kernelspec": {
   "display_name": "Python 3",
   "language": "python",
   "name": "python3"
  },
  "language_info": {
   "codemirror_mode": {
    "name": "ipython",
    "version": 3
   },
   "file_extension": ".py",
   "mimetype": "text/x-python",
   "name": "python",
   "nbconvert_exporter": "python",
   "pygments_lexer": "ipython3",
   "version": "3.6.4"
  }
 },
 "nbformat": 4,
 "nbformat_minor": 2
}
