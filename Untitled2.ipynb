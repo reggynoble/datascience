{
 "cells": [
  {
   "cell_type": "code",
   "execution_count": 18,
   "metadata": {},
   "outputs": [],
   "source": [
    "stocks = {'ss':10, 'up':20, 'ds':35}\n",
    "def yieldstocks(stocks = []):\n",
    "    for stock in enumerate (stocks):\n",
    "        yield stocks.value()\n"
   ]
  },
  {
   "cell_type": "code",
   "execution_count": 19,
   "metadata": {},
   "outputs": [],
   "source": [
    "stocks = {'ss':10, 'up':20, 'ds':35}\n",
    "def yieldstocks(stocks = []):\n",
    "    for stock in enumerate (stocks):\n",
    "        yield stocks.value()\n",
    "\n"
   ]
  },
  {
   "cell_type": "code",
   "execution_count": 3,
   "metadata": {},
   "outputs": [
    {
     "ename": "SyntaxError",
     "evalue": "invalid syntax (<ipython-input-3-87b13aee781b>, line 2)",
     "output_type": "error",
     "traceback": [
      "\u001b[1;36m  File \u001b[1;32m\"<ipython-input-3-87b13aee781b>\"\u001b[1;36m, line \u001b[1;32m2\u001b[0m\n\u001b[1;33m    for stock, price in enumerate stocks:\u001b[0m\n\u001b[1;37m                                       ^\u001b[0m\n\u001b[1;31mSyntaxError\u001b[0m\u001b[1;31m:\u001b[0m invalid syntax\n"
     ]
    }
   ],
   "source": [
    "stocks = {'ss':10, 'up':20, 'ds':35}\n",
    "for stock, price in enumerate stocks:\n",
    "    yield(sock, price) "
   ]
  },
  {
   "cell_type": "code",
   "execution_count": 4,
   "metadata": {},
   "outputs": [
    {
     "ename": "SyntaxError",
     "evalue": "invalid syntax (<ipython-input-4-42cff66baa17>, line 2)",
     "output_type": "error",
     "traceback": [
      "\u001b[1;36m  File \u001b[1;32m\"<ipython-input-4-42cff66baa17>\"\u001b[1;36m, line \u001b[1;32m2\u001b[0m\n\u001b[1;33m    for stock, price in enumerate(stocks)\u001b[0m\n\u001b[1;37m                                         ^\u001b[0m\n\u001b[1;31mSyntaxError\u001b[0m\u001b[1;31m:\u001b[0m invalid syntax\n"
     ]
    }
   ],
   "source": [
    "stocks = {'ss':10, 'up':20, 'ds':35}\n",
    "for stock, price in enumerate(stocks)\n",
    "    yield(sock, price) "
   ]
  },
  {
   "cell_type": "code",
   "execution_count": 5,
   "metadata": {},
   "outputs": [
    {
     "ename": "SyntaxError",
     "evalue": "'yield' outside function (<ipython-input-5-ad89e5872647>, line 3)",
     "output_type": "error",
     "traceback": [
      "\u001b[1;36m  File \u001b[1;32m\"<ipython-input-5-ad89e5872647>\"\u001b[1;36m, line \u001b[1;32m3\u001b[0m\n\u001b[1;33m    yield(sock, price)\u001b[0m\n\u001b[1;37m    ^\u001b[0m\n\u001b[1;31mSyntaxError\u001b[0m\u001b[1;31m:\u001b[0m 'yield' outside function\n"
     ]
    }
   ],
   "source": [
    "stocks = {'ss':10, 'up':20, 'ds':35}\n",
    "for stock, price in enumerate(stocks):\n",
    "    yield(sock, price) "
   ]
  },
  {
   "cell_type": "code",
   "execution_count": 6,
   "metadata": {},
   "outputs": [
    {
     "name": "stdout",
     "output_type": "stream",
     "text": [
      "0 ss\n",
      "1 up\n",
      "2 ds\n"
     ]
    }
   ],
   "source": [
    "stocks = {'ss':10, 'up':20, 'ds':35}\n",
    "for stock, price in enumerate(stocks):\n",
    "    print(stock, price)"
   ]
  },
  {
   "cell_type": "code",
   "execution_count": 7,
   "metadata": {},
   "outputs": [
    {
     "ename": "SyntaxError",
     "evalue": "'yield' outside function (<ipython-input-7-20a6a24e95d5>, line 3)",
     "output_type": "error",
     "traceback": [
      "\u001b[1;36m  File \u001b[1;32m\"<ipython-input-7-20a6a24e95d5>\"\u001b[1;36m, line \u001b[1;32m3\u001b[0m\n\u001b[1;33m    yield (stock, price)\u001b[0m\n\u001b[1;37m    ^\u001b[0m\n\u001b[1;31mSyntaxError\u001b[0m\u001b[1;31m:\u001b[0m 'yield' outside function\n"
     ]
    }
   ],
   "source": [
    "stocks = {'ss':10, 'up':20, 'ds':35}\n",
    "for stock, price in enumerate(stocks):\n",
    "    yield (stock, price)"
   ]
  },
  {
   "cell_type": "code",
   "execution_count": 8,
   "metadata": {},
   "outputs": [
    {
     "ename": "SyntaxError",
     "evalue": "'yield' outside function (<ipython-input-8-4fbceb8bd91f>, line 3)",
     "output_type": "error",
     "traceback": [
      "\u001b[1;36m  File \u001b[1;32m\"<ipython-input-8-4fbceb8bd91f>\"\u001b[1;36m, line \u001b[1;32m3\u001b[0m\n\u001b[1;33m    yield(stock, price)\u001b[0m\n\u001b[1;37m    ^\u001b[0m\n\u001b[1;31mSyntaxError\u001b[0m\u001b[1;31m:\u001b[0m 'yield' outside function\n"
     ]
    }
   ],
   "source": [
    "stocks = {'ss':10, 'up':20, 'ds':35}\n",
    "for stock, price in enumerate(stocks):\n",
    "    yield(stock, price)"
   ]
  },
  {
   "cell_type": "code",
   "execution_count": 38,
   "metadata": {},
   "outputs": [],
   "source": [
    "stocks = {'ss':10, 'up':20, 'ds':35}\n",
    "def stock_analyzer():\n",
    "    for stock, price in enumerate(stocks):\n",
    "        yield(stock, price)"
   ]
  },
  {
   "cell_type": "code",
   "execution_count": 11,
   "metadata": {},
   "outputs": [],
   "source": [
    "stocks = {'ss':10, 'up':20, 'ds':35}\n",
    "def stock_analyzer():\n",
    "    for stock, price in enumerate(stocks):\n",
    "        yield(stock,price)"
   ]
  },
  {
   "cell_type": "code",
   "execution_count": 12,
   "metadata": {},
   "outputs": [],
   "source": [
    "mystocklist = stock_analyzer()"
   ]
  },
  {
   "cell_type": "code",
   "execution_count": 13,
   "metadata": {},
   "outputs": [
    {
     "data": {
      "text/plain": [
       "<generator object stock_analyzer at 0x0000020AC5167F68>"
      ]
     },
     "execution_count": 13,
     "metadata": {},
     "output_type": "execute_result"
    }
   ],
   "source": [
    "mystocklist"
   ]
  },
  {
   "cell_type": "code",
   "execution_count": 14,
   "metadata": {},
   "outputs": [],
   "source": [
    "get_mystocks = list(mystocklist)"
   ]
  },
  {
   "cell_type": "code",
   "execution_count": 15,
   "metadata": {},
   "outputs": [
    {
     "data": {
      "text/plain": [
       "[(0, 'ss'), (1, 'up'), (2, 'ds')]"
      ]
     },
     "execution_count": 15,
     "metadata": {},
     "output_type": "execute_result"
    }
   ],
   "source": [
    "get_mystocks"
   ]
  },
  {
   "cell_type": "code",
   "execution_count": 37,
   "metadata": {},
   "outputs": [],
   "source": [
    "a = [1, 2, 3, 4, 5, 6, 7, 8, 9, 10, 11]\n",
    "odds = [x for x in a if x % 2 == 0]"
   ]
  },
  {
   "cell_type": "code",
   "execution_count": 4,
   "metadata": {},
   "outputs": [],
   "source": [
    "a = [1, 2, 3, 4, 5, 6, 7, 8, 9, 10, 11]\n",
    "evens = [x for x in a if x % 2 == 0]"
   ]
  },
  {
   "cell_type": "code",
   "execution_count": 5,
   "metadata": {},
   "outputs": [
    {
     "data": {
      "text/plain": [
       "[2, 4, 6, 8, 10]"
      ]
     },
     "execution_count": 5,
     "metadata": {},
     "output_type": "execute_result"
    }
   ],
   "source": [
    "evens"
   ]
  },
  {
   "cell_type": "code",
   "execution_count": 36,
   "metadata": {},
   "outputs": [
    {
     "name": "stdout",
     "output_type": "stream",
     "text": [
      "[*********************100%***********************]  1 of 1 completed\n"
     ]
    },
    {
     "data": {
      "image/png": "[encoded data removed]",
      "text/plain": [
       "<Figure size 432x288 with 1 Axes>"
      ]
     },
     "metadata": {
      "needs_background": "light"
     },
     "output_type": "display_data"
    }
   ],
   "source": [
    "# Import the plotting library\n",
    "import matplotlib.pyplot as plt\n",
    " \n",
    "# Import the yfinance. If you get module not found error the run !pip install yfiannce from your Jupyter notebook\n",
    "import yfinance as yf  \n",
    " \n",
    "# Get the data of the stock AAPL\n",
    "data = yf.download('AAPL','2016-01-01','2018-01-01')\n",
    " \n",
    "# Plot the close price of the AAPL\n",
    "data.Close.plot()\n",
    "plt.show()"
   ]
  },
  {
   "cell_type": "code",
   "execution_count": 5,
   "metadata": {},
   "outputs": [],
   "source": [
    "from yahoo_finance import Share"
   ]
  },
  {
   "cell_type": "code",
   "execution_count": 35,
   "metadata": {},
   "outputs": [],
   "source": [
    "import yfinance as yf\n"
   ]
  },
  {
   "cell_type": "code",
   "execution_count": null,
   "metadata": {},
   "outputs": [],
   "source": [
    "import yfinance as yf"
   ]
  },
  {
   "cell_type": "code",
   "execution_count": 11,
   "metadata": {},
   "outputs": [],
   "source": [
    "import yfinance as yf"
   ]
  },
  {
   "cell_type": "code",
   "execution_count": 12,
   "metadata": {},
   "outputs": [
    {
     "name": "stdout",
     "output_type": "stream",
     "text": [
      "[*********************100%***********************]  1 of 1 completed\n"
     ]
    },
    {
     "data": {
      "image/png": "[encoded data removed]",
      "text/plain": [
       "<Figure size 432x288 with 1 Axes>"
      ]
     },
     "metadata": {
      "needs_background": "light"
     },
     "output_type": "display_data"
    }
   ],
   "source": [
    "# Import the plotting library\n",
    "import matplotlib.pyplot as plt\n",
    " \n",
    "# Import the yfinance. If you get module not found error the run !pip install yfiannce from your Jupyter notebook\n",
    "import yfinance as yf  \n",
    " \n",
    "# Get the data of the stock AAPL\n",
    "data = yf.download('AAPL','2016-01-01','2018-01-01')\n",
    " \n",
    "# Plot the close price of the AAPL\n",
    "data.Close.plot()\n",
    "plt.show()"
   ]
  },
  {
   "cell_type": "code",
   "execution_count": 13,
   "metadata": {},
   "outputs": [
    {
     "name": "stdout",
     "output_type": "stream",
     "text": [
      "[*********************100%***********************]  2 of 2 completed\n"
     ]
    },
    {
     "data": {
      "image/png": "[encoded data removed]",
      "text/plain": [
       "<Figure size 432x288 with 1 Axes>"
      ]
     },
     "metadata": {
      "needs_background": "light"
     },
     "output_type": "display_data"
    }
   ],
   "source": [
    "data2 = yf.download(\"SPY AAPL\", start=\"2017-01-01\", end=\"2017-04-30\")\n",
    "data2.Close.plot()\n",
    "plt.show()"
   ]
  },
  {
   "cell_type": "code",
   "execution_count": 31,
   "metadata": {},
   "outputs": [],
   "source": [
    "stocks = {'ss':10, 'up':20, 'ds':35}\n",
    "def stock_analyzer():\n",
    "    for stock, price in enumerate(stocks):\n",
    "        yield(stock,price)"
   ]
  },
  {
   "cell_type": "code",
   "execution_count": 32,
   "metadata": {},
   "outputs": [],
   "source": [
    "yieldstocks = stock_analyzer()"
   ]
  },
  {
   "cell_type": "code",
   "execution_count": 33,
   "metadata": {},
   "outputs": [],
   "source": [
    "yield1 = list(yieldstocks)"
   ]
  },
  {
   "cell_type": "code",
   "execution_count": 34,
   "metadata": {},
   "outputs": [
    {
     "data": {
      "text/plain": [
       "[(0, 'ss'), (1, 'up'), (2, 'ds')]"
      ]
     },
     "execution_count": 34,
     "metadata": {},
     "output_type": "execute_result"
    }
   ],
   "source": [
    "yield1"
   ]
  },
  {
   "cell_type": "code",
   "execution_count": 42,
   "metadata": {},
   "outputs": [],
   "source": [
    "msft = yf.Ticker(\"MSFT\")\n",
    "\n",
    "# get stock info\n",
    "msft.info\n",
    "\n",
    "# get historical market data\n",
    "hist = msft.history(period=\"max\")\n",
    "\n",
    "# show actions (dividends, splits)\n",
    "msft.actions\n",
    "\n",
    "# show dividends\n",
    "msft.dividends\n",
    "\n",
    "# show splits\n",
    "msft.splits\n",
    "\n",
    "# show financials\n",
    "msft.financials\n",
    "msft.quarterly_financials\n",
    "\n",
    "# show balance heet\n",
    "msft.balance_sheet\n",
    "msft.quarterly_balance_sheet\n",
    "\n",
    "# show cashflow\n",
    "msft.cashflow\n",
    "msft.quarterly_cashflow\n",
    "\n",
    "# show earnings\n",
    "msft.earnings\n",
    "msft.quarterly_earnings\n",
    "\n",
    "# show sustainability\n",
    "msft.sustainability\n",
    "\n",
    "# show analysts recommendations\n",
    "msft.recommendations\n",
    "\n",
    "# show next event (earnings, etc)\n",
    "msft.calendar\n",
    "\n",
    "# show options expirations\n",
    "msft.options\n",
    "\n",
    "# get option chain for specific expiration\n",
    "opt = msft.option_chain('2019-11-21')\n",
    "# data available via: opt.calls, opt.puts"
   ]
  },
  {
   "cell_type": "code",
   "execution_count": 43,
   "metadata": {},
   "outputs": [
    {
     "data": {
      "text/plain": [
       "{'zip': '98052',\n",
       " 'sector': 'Technology',\n",
       " 'fullTimeEmployees': 144000,\n",
       " 'longBusinessSummary': \"Microsoft Corporation develops, licenses, and supports software, services, devices, and solutions worldwide. The company's Productivity and Business Processes segment offers Office, Exchange, SharePoint, Microsoft Teams, Office 365 Security and Compliance, and Skype for Business, as well as related Client Access Licenses (CAL); and Skype, Outlook.com, and OneDrive. It also provides LinkedIn that includes Talent and marketing solutions, and subscriptions; and Dynamics 365, a set of cloud-based and on-premises business solutions for small and medium businesses, large organizations, and divisions of enterprises. The company's Intelligent Cloud segment licenses SQL and Windows Servers, Visual Studio, System Center, and related CALs; GitHub that provides a collaboration platform and code hosting service for developers; and Azure, a cloud platform. It also provides support services and Microsoft consulting services to assist customers in developing, deploying, and managing Microsoft server and desktop solutions; and training and certification to developers and IT professionals on various Microsoft products. The company's More Personal Computing segment offers Windows OEM licensing and other non-volume licensing of the Windows operating system; Windows Commercial comprising volume licensing of the Windows operating system, Windows cloud services, and other Windows commercial offerings; patent licensing; Windows Internet of Things; and MSN advertising. It also provides Microsoft Surface, PC accessories, and other intelligent devices; Gaming, including Xbox hardware, and Xbox software and services; video games and third-party video game royalties; and Search, including Bing and Microsoft advertising. The company sells its products through distributors and resellers; and directly through digital marketplaces, online stores, and retail stores. It has strategic partnerships with Humana Inc. and Nokia. The company was founded in 1975 and is headquartered in Redmond, Washington.\",\n",
       " 'city': 'Redmond',\n",
       " 'phone': '425-882-8080',\n",
       " 'state': 'WA',\n",
       " 'country': 'United States',\n",
       " 'companyOfficers': [],\n",
       " 'website': 'http://www.microsoft.com',\n",
       " 'maxAge': 1,\n",
       " 'address1': 'One Microsoft Way',\n",
       " 'fax': '425-706-7329',\n",
       " 'industry': 'Business Software & Services',\n",
       " 'previousClose': 148.06,\n",
       " 'regularMarketOpen': 148.93,\n",
       " 'twoHundredDayAverage': 135.87766,\n",
       " 'trailingAnnualDividendYield': 0.012765096,\n",
       " 'payoutRatio': 0.3472,\n",
       " 'volume24Hr': None,\n",
       " 'regularMarketDayHigh': 149.99,\n",
       " 'navPrice': None,\n",
       " 'averageDailyVolume10Day': 18029262,\n",
       " 'totalAssets': None,\n",
       " 'regularMarketPreviousClose': 148.06,\n",
       " 'fiftyDayAverage': 141.23778,\n",
       " 'trailingAnnualDividendRate': 1.89,\n",
       " 'open': 148.93,\n",
       " 'averageVolume10days': 18029262,\n",
       " 'expireDate': None,\n",
       " 'yield': None,\n",
       " 'algorithm': None,\n",
       " 'dividendRate': 2.04,\n",
       " 'exDividendDate': 1574208000,\n",
       " 'beta': 1.229776,\n",
       " 'circulatingSupply': None,\n",
       " 'startDate': None,\n",
       " 'regularMarketDayLow': 148.27,\n",
       " 'priceHint': 2,\n",
       " 'currency': 'USD',\n",
       " 'trailingPE': 28.296227,\n",
       " 'regularMarketVolume': 23508807,\n",
       " 'lastMarket': None,\n",
       " 'maxSupply': None,\n",
       " 'openInterest': None,\n",
       " 'marketCap': 1144092622848,\n",
       " 'volumeAllCurrencies': None,\n",
       " 'strikePrice': None,\n",
       " 'averageVolume': 22794787,\n",
       " 'priceToSalesTrailing12Months': None,\n",
       " 'dayLow': 148.27,\n",
       " 'ask': 149.97,\n",
       " 'ytdReturn': None,\n",
       " 'askSize': 1000,\n",
       " 'volume': 23508807,\n",
       " 'fiftyTwoWeekHigh': 149.99,\n",
       " 'forwardPE': 24.747524,\n",
       " 'fromCurrency': None,\n",
       " 'fiveYearAvgDividendYield': 2.09,\n",
       " 'fiftyTwoWeekLow': 93.96,\n",
       " 'bid': 149.9,\n",
       " 'tradeable': True,\n",
       " 'dividendYield': 0.0138,\n",
       " 'bidSize': 1100,\n",
       " 'dayHigh': 149.99,\n",
       " 'exchange': 'NMS',\n",
       " 'shortName': 'Microsoft Corporation',\n",
       " 'longName': 'Microsoft Corporation',\n",
       " 'exchangeTimezoneName': 'America/New_York',\n",
       " 'exchangeTimezoneShortName': 'EST',\n",
       " 'isEsgPopulated': True,\n",
       " 'gmtOffSetMilliseconds': '-18000000',\n",
       " 'underlyingSymbol': None,\n",
       " 'quoteType': 'EQUITY',\n",
       " 'symbol': 'MSFT',\n",
       " 'underlyingExchangeSymbol': None,\n",
       " 'headSymbol': None,\n",
       " 'messageBoardId': 'finmb_21835',\n",
       " 'uuid': 'b004b3ec-de24-385e-b2c1-923f10d3fb62',\n",
       " 'market': 'us_market',\n",
       " 'annualHoldingsTurnover': None,\n",
       " 'enterpriseToRevenue': 8.42,\n",
       " 'beta3Year': None,\n",
       " 'profitMargins': 0.31656,\n",
       " 'enterpriseToEbitda': 19.035,\n",
       " '52WeekChange': 0.41521692,\n",
       " 'morningStarRiskRating': None,\n",
       " 'forwardEps': 6.06,\n",
       " 'revenueQuarterlyGrowth': None,\n",
       " 'sharesOutstanding': 7695349760,\n",
       " 'fundInceptionDate': None,\n",
       " 'annualReportExpenseRatio': None,\n",
       " 'bookValue': 13.893,\n",
       " 'sharesShort': 61828079,\n",
       " 'sharesPercentSharesOut': 0.0081,\n",
       " 'fundFamily': None,\n",
       " 'lastFiscalYearEnd': 1561852800,\n",
       " 'heldPercentInstitutions': 0.74697995,\n",
       " 'netIncomeToCommon': 41094000640,\n",
       " 'trailingEps': 5.3,\n",
       " 'lastDividendValue': None,\n",
       " 'SandP52WeekChange': 0.15085125,\n",
       " 'priceToBook': 10.794645,\n",
       " 'heldPercentInsiders': 0.014090001,\n",
       " 'nextFiscalYearEnd': 1625011200,\n",
       " 'mostRecentQuarter': 1569801600,\n",
       " 'shortRatio': 2.55,\n",
       " 'sharesShortPreviousMonthDate': 1569801600,\n",
       " 'floatShares': 7518264225,\n",
       " 'enterpriseValue': 1093052989440,\n",
       " 'threeYearAverageReturn': None,\n",
       " 'lastSplitDate': 1045526400,\n",
       " 'lastSplitFactor': '1/2',\n",
       " 'legalType': None,\n",
       " 'morningStarOverallRating': None,\n",
       " 'earningsQuarterlyGrowth': 0.21,\n",
       " 'dateShortInterest': 1572480000,\n",
       " 'pegRatio': 1.89,\n",
       " 'lastCapGain': None,\n",
       " 'shortPercentOfFloat': 0.0081,\n",
       " 'sharesShortPriorMonth': 53037374,\n",
       " 'category': None,\n",
       " 'fiveYearAverageReturn': None}"
      ]
     },
     "execution_count": 43,
     "metadata": {},
     "output_type": "execute_result"
    }
   ],
   "source": [
    "msft.info"
   ]
  },
  {
   "cell_type": "code",
   "execution_count": 44,
   "metadata": {},
   "outputs": [],
   "source": [
    "hist = msft.history(period=\"max\")"
   ]
  },
  {
   "cell_type": "code",
   "execution_count": 45,
   "metadata": {},
   "outputs": [
    {
     "data": {
      "text/html": [
       "<div>\n",
       "<style scoped>\n",
       "    .dataframe tbody tr th:only-of-type {\n",
       "        vertical-align: middle;\n",
       "    }\n",
       "\n",
       "    .dataframe tbody tr th {\n",
       "        vertical-align: top;\n",
       "    }\n",
       "\n",
       "    .dataframe thead th {\n",
       "        text-align: right;\n",
       "    }\n",
       "</style>\n",
       "<table border=\"1\" class=\"dataframe\">\n",
       "  <thead>\n",
       "    <tr style=\"text-align: right;\">\n",
       "      <th></th>\n",
       "      <th>Open</th>\n",
       "      <th>High</th>\n",
       "      <th>Low</th>\n",
       "      <th>Close</th>\n",
       "      <th>Volume</th>\n",
       "      <th>Dividends</th>\n",
       "      <th>Stock Splits</th>\n",
       "    </tr>\n",
       "    <tr>\n",
       "      <th>Date</th>\n",
       "      <th></th>\n",
       "      <th></th>\n",
       "      <th></th>\n",
       "      <th></th>\n",
       "      <th></th>\n",
       "      <th></th>\n",
       "      <th></th>\n",
       "    </tr>\n",
       "  </thead>\n",
       "  <tbody>\n",
       "    <tr>\n",
       "      <th>1986-03-13</th>\n",
       "      <td>0.06</td>\n",
       "      <td>0.07</td>\n",
       "      <td>0.06</td>\n",
       "      <td>0.06</td>\n",
       "      <td>1031788800</td>\n",
       "      <td>0.0</td>\n",
       "      <td>0.0</td>\n",
       "    </tr>\n",
       "    <tr>\n",
       "      <th>1986-03-14</th>\n",
       "      <td>0.06</td>\n",
       "      <td>0.07</td>\n",
       "      <td>0.06</td>\n",
       "      <td>0.07</td>\n",
       "      <td>308160000</td>\n",
       "      <td>0.0</td>\n",
       "      <td>0.0</td>\n",
       "    </tr>\n",
       "    <tr>\n",
       "      <th>1986-03-17</th>\n",
       "      <td>0.07</td>\n",
       "      <td>0.07</td>\n",
       "      <td>0.07</td>\n",
       "      <td>0.07</td>\n",
       "      <td>133171200</td>\n",
       "      <td>0.0</td>\n",
       "      <td>0.0</td>\n",
       "    </tr>\n",
       "    <tr>\n",
       "      <th>1986-03-18</th>\n",
       "      <td>0.07</td>\n",
       "      <td>0.07</td>\n",
       "      <td>0.06</td>\n",
       "      <td>0.06</td>\n",
       "      <td>67766400</td>\n",
       "      <td>0.0</td>\n",
       "      <td>0.0</td>\n",
       "    </tr>\n",
       "    <tr>\n",
       "      <th>1986-03-19</th>\n",
       "      <td>0.06</td>\n",
       "      <td>0.07</td>\n",
       "      <td>0.06</td>\n",
       "      <td>0.06</td>\n",
       "      <td>47894400</td>\n",
       "      <td>0.0</td>\n",
       "      <td>0.0</td>\n",
       "    </tr>\n",
       "    <tr>\n",
       "      <th>...</th>\n",
       "      <td>...</td>\n",
       "      <td>...</td>\n",
       "      <td>...</td>\n",
       "      <td>...</td>\n",
       "      <td>...</td>\n",
       "      <td>...</td>\n",
       "      <td>...</td>\n",
       "    </tr>\n",
       "    <tr>\n",
       "      <th>2019-11-11</th>\n",
       "      <td>145.34</td>\n",
       "      <td>146.42</td>\n",
       "      <td>144.73</td>\n",
       "      <td>146.11</td>\n",
       "      <td>14362600</td>\n",
       "      <td>0.0</td>\n",
       "      <td>0.0</td>\n",
       "    </tr>\n",
       "    <tr>\n",
       "      <th>2019-11-12</th>\n",
       "      <td>146.28</td>\n",
       "      <td>147.57</td>\n",
       "      <td>146.06</td>\n",
       "      <td>147.07</td>\n",
       "      <td>18641600</td>\n",
       "      <td>0.0</td>\n",
       "      <td>0.0</td>\n",
       "    </tr>\n",
       "    <tr>\n",
       "      <th>2019-11-13</th>\n",
       "      <td>146.74</td>\n",
       "      <td>147.46</td>\n",
       "      <td>146.28</td>\n",
       "      <td>147.31</td>\n",
       "      <td>16919200</td>\n",
       "      <td>0.0</td>\n",
       "      <td>0.0</td>\n",
       "    </tr>\n",
       "    <tr>\n",
       "      <th>2019-11-14</th>\n",
       "      <td>147.02</td>\n",
       "      <td>148.41</td>\n",
       "      <td>147.00</td>\n",
       "      <td>148.06</td>\n",
       "      <td>19729800</td>\n",
       "      <td>0.0</td>\n",
       "      <td>0.0</td>\n",
       "    </tr>\n",
       "    <tr>\n",
       "      <th>2019-11-15</th>\n",
       "      <td>148.93</td>\n",
       "      <td>149.99</td>\n",
       "      <td>148.27</td>\n",
       "      <td>149.97</td>\n",
       "      <td>23485700</td>\n",
       "      <td>0.0</td>\n",
       "      <td>0.0</td>\n",
       "    </tr>\n",
       "  </tbody>\n",
       "</table>\n",
       "<p>8491 rows × 7 columns</p>\n",
       "</div>"
      ],
      "text/plain": [
       "              Open    High     Low   Close      Volume  Dividends  \\\n",
       "Date                                                                \n",
       "1986-03-13    0.06    0.07    0.06    0.06  1031788800        0.0   \n",
       "1986-03-14    0.06    0.07    0.06    0.07   308160000        0.0   \n",
       "1986-03-17    0.07    0.07    0.07    0.07   133171200        0.0   \n",
       "1986-03-18    0.07    0.07    0.06    0.06    67766400        0.0   \n",
       "1986-03-19    0.06    0.07    0.06    0.06    47894400        0.0   \n",
       "...            ...     ...     ...     ...         ...        ...   \n",
       "2019-11-11  145.34  146.42  144.73  146.11    14362600        0.0   \n",
       "2019-11-12  146.28  147.57  146.06  147.07    18641600        0.0   \n",
       "2019-11-13  146.74  147.46  146.28  147.31    16919200        0.0   \n",
       "2019-11-14  147.02  148.41  147.00  148.06    19729800        0.0   \n",
       "2019-11-15  148.93  149.99  148.27  149.97    23485700        0.0   \n",
       "\n",
       "            Stock Splits  \n",
       "Date                      \n",
       "1986-03-13           0.0  \n",
       "1986-03-14           0.0  \n",
       "1986-03-17           0.0  \n",
       "1986-03-18           0.0  \n",
       "1986-03-19           0.0  \n",
       "...                  ...  \n",
       "2019-11-11           0.0  \n",
       "2019-11-12           0.0  \n",
       "2019-11-13           0.0  \n",
       "2019-11-14           0.0  \n",
       "2019-11-15           0.0  \n",
       "\n",
       "[8491 rows x 7 columns]"
      ]
     },
     "execution_count": 45,
     "metadata": {},
     "output_type": "execute_result"
    }
   ],
   "source": [
    "hist"
   ]
  },
  {
   "cell_type": "code",
   "execution_count": 47,
   "metadata": {},
   "outputs": [],
   "source": [
    "import pandas as pd\n",
    "histdf = pd.DataFrame(data=hist)"
   ]
  },
  {
   "cell_type": "code",
   "execution_count": 48,
   "metadata": {},
   "outputs": [
    {
     "data": {
      "text/html": [
       "<div>\n",
       "<style scoped>\n",
       "    .dataframe tbody tr th:only-of-type {\n",
       "        vertical-align: middle;\n",
       "    }\n",
       "\n",
       "    .dataframe tbody tr th {\n",
       "        vertical-align: top;\n",
       "    }\n",
       "\n",
       "    .dataframe thead th {\n",
       "        text-align: right;\n",
       "    }\n",
       "</style>\n",
       "<table border=\"1\" class=\"dataframe\">\n",
       "  <thead>\n",
       "    <tr style=\"text-align: right;\">\n",
       "      <th></th>\n",
       "      <th>Open</th>\n",
       "      <th>High</th>\n",
       "      <th>Low</th>\n",
       "      <th>Close</th>\n",
       "      <th>Volume</th>\n",
       "      <th>Dividends</th>\n",
       "      <th>Stock Splits</th>\n",
       "    </tr>\n",
       "    <tr>\n",
       "      <th>Date</th>\n",
       "      <th></th>\n",
       "      <th></th>\n",
       "      <th></th>\n",
       "      <th></th>\n",
       "      <th></th>\n",
       "      <th></th>\n",
       "      <th></th>\n",
       "    </tr>\n",
       "  </thead>\n",
       "  <tbody>\n",
       "    <tr>\n",
       "      <th>1986-03-13</th>\n",
       "      <td>0.06</td>\n",
       "      <td>0.07</td>\n",
       "      <td>0.06</td>\n",
       "      <td>0.06</td>\n",
       "      <td>1031788800</td>\n",
       "      <td>0.0</td>\n",
       "      <td>0.0</td>\n",
       "    </tr>\n",
       "    <tr>\n",
       "      <th>1986-03-14</th>\n",
       "      <td>0.06</td>\n",
       "      <td>0.07</td>\n",
       "      <td>0.06</td>\n",
       "      <td>0.07</td>\n",
       "      <td>308160000</td>\n",
       "      <td>0.0</td>\n",
       "      <td>0.0</td>\n",
       "    </tr>\n",
       "    <tr>\n",
       "      <th>1986-03-17</th>\n",
       "      <td>0.07</td>\n",
       "      <td>0.07</td>\n",
       "      <td>0.07</td>\n",
       "      <td>0.07</td>\n",
       "      <td>133171200</td>\n",
       "      <td>0.0</td>\n",
       "      <td>0.0</td>\n",
       "    </tr>\n",
       "    <tr>\n",
       "      <th>1986-03-18</th>\n",
       "      <td>0.07</td>\n",
       "      <td>0.07</td>\n",
       "      <td>0.06</td>\n",
       "      <td>0.06</td>\n",
       "      <td>67766400</td>\n",
       "      <td>0.0</td>\n",
       "      <td>0.0</td>\n",
       "    </tr>\n",
       "    <tr>\n",
       "      <th>1986-03-19</th>\n",
       "      <td>0.06</td>\n",
       "      <td>0.07</td>\n",
       "      <td>0.06</td>\n",
       "      <td>0.06</td>\n",
       "      <td>47894400</td>\n",
       "      <td>0.0</td>\n",
       "      <td>0.0</td>\n",
       "    </tr>\n",
       "    <tr>\n",
       "      <th>...</th>\n",
       "      <td>...</td>\n",
       "      <td>...</td>\n",
       "      <td>...</td>\n",
       "      <td>...</td>\n",
       "      <td>...</td>\n",
       "      <td>...</td>\n",
       "      <td>...</td>\n",
       "    </tr>\n",
       "    <tr>\n",
       "      <th>2019-11-11</th>\n",
       "      <td>145.34</td>\n",
       "      <td>146.42</td>\n",
       "      <td>144.73</td>\n",
       "      <td>146.11</td>\n",
       "      <td>14362600</td>\n",
       "      <td>0.0</td>\n",
       "      <td>0.0</td>\n",
       "    </tr>\n",
       "    <tr>\n",
       "      <th>2019-11-12</th>\n",
       "      <td>146.28</td>\n",
       "      <td>147.57</td>\n",
       "      <td>146.06</td>\n",
       "      <td>147.07</td>\n",
       "      <td>18641600</td>\n",
       "      <td>0.0</td>\n",
       "      <td>0.0</td>\n",
       "    </tr>\n",
       "    <tr>\n",
       "      <th>2019-11-13</th>\n",
       "      <td>146.74</td>\n",
       "      <td>147.46</td>\n",
       "      <td>146.28</td>\n",
       "      <td>147.31</td>\n",
       "      <td>16919200</td>\n",
       "      <td>0.0</td>\n",
       "      <td>0.0</td>\n",
       "    </tr>\n",
       "    <tr>\n",
       "      <th>2019-11-14</th>\n",
       "      <td>147.02</td>\n",
       "      <td>148.41</td>\n",
       "      <td>147.00</td>\n",
       "      <td>148.06</td>\n",
       "      <td>19729800</td>\n",
       "      <td>0.0</td>\n",
       "      <td>0.0</td>\n",
       "    </tr>\n",
       "    <tr>\n",
       "      <th>2019-11-15</th>\n",
       "      <td>148.93</td>\n",
       "      <td>149.99</td>\n",
       "      <td>148.27</td>\n",
       "      <td>149.97</td>\n",
       "      <td>23485700</td>\n",
       "      <td>0.0</td>\n",
       "      <td>0.0</td>\n",
       "    </tr>\n",
       "  </tbody>\n",
       "</table>\n",
       "<p>8491 rows × 7 columns</p>\n",
       "</div>"
      ],
      "text/plain": [
       "              Open    High     Low   Close      Volume  Dividends  \\\n",
       "Date                                                                \n",
       "1986-03-13    0.06    0.07    0.06    0.06  1031788800        0.0   \n",
       "1986-03-14    0.06    0.07    0.06    0.07   308160000        0.0   \n",
       "1986-03-17    0.07    0.07    0.07    0.07   133171200        0.0   \n",
       "1986-03-18    0.07    0.07    0.06    0.06    67766400        0.0   \n",
       "1986-03-19    0.06    0.07    0.06    0.06    47894400        0.0   \n",
       "...            ...     ...     ...     ...         ...        ...   \n",
       "2019-11-11  145.34  146.42  144.73  146.11    14362600        0.0   \n",
       "2019-11-12  146.28  147.57  146.06  147.07    18641600        0.0   \n",
       "2019-11-13  146.74  147.46  146.28  147.31    16919200        0.0   \n",
       "2019-11-14  147.02  148.41  147.00  148.06    19729800        0.0   \n",
       "2019-11-15  148.93  149.99  148.27  149.97    23485700        0.0   \n",
       "\n",
       "            Stock Splits  \n",
       "Date                      \n",
       "1986-03-13           0.0  \n",
       "1986-03-14           0.0  \n",
       "1986-03-17           0.0  \n",
       "1986-03-18           0.0  \n",
       "1986-03-19           0.0  \n",
       "...                  ...  \n",
       "2019-11-11           0.0  \n",
       "2019-11-12           0.0  \n",
       "2019-11-13           0.0  \n",
       "2019-11-14           0.0  \n",
       "2019-11-15           0.0  \n",
       "\n",
       "[8491 rows x 7 columns]"
      ]
     },
     "execution_count": 48,
     "metadata": {},
     "output_type": "execute_result"
    }
   ],
   "source": [
    "histdf "
   ]
  },
  {
   "cell_type": "code",
   "execution_count": 49,
   "metadata": {},
   "outputs": [
    {
     "data": {
      "text/plain": [
       "<matplotlib.axes._subplots.AxesSubplot at 0x274270ff198>"
      ]
     },
     "execution_count": 49,
     "metadata": {},
     "output_type": "execute_result"
    },
    {
     "data": {
      "image/png": "[encoded data removed]",
      "text/plain": [
       "<Figure size 432x288 with 1 Axes>"
      ]
     },
     "metadata": {
      "needs_background": "light"
     },
     "output_type": "display_data"
    }
   ],
   "source": [
    "histdf.plot()"
   ]
  },
  {
   "cell_type": "code",
   "execution_count": null,
   "metadata": {},
   "outputs": [],
   "source": [
    "histdf[histdf['open']]"
   ]
  }
 ],
 "metadata": {
  "kernelspec": {
   "display_name": "Python 3",
   "language": "python",
   "name": "python3"
  },
  "language_info": {
   "codemirror_mode": {
    "name": "ipython",
    "version": 3
   },
   "file_extension": ".py",
   "mimetype": "text/x-python",
   "name": "python",
   "nbconvert_exporter": "python",
   "pygments_lexer": "ipython3",
   "version": "3.6.4"
  }
 },
 "nbformat": 4,
 "nbformat_minor": 2
}
