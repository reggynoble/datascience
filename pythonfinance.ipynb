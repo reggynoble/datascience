{
 "cells": [
  {
   "cell_type": "code",
   "execution_count": 1,
   "metadata": {},
   "outputs": [
    {
     "ename": "SyntaxError",
     "evalue": "invalid syntax (<ipython-input-1-020265aa1d85>, line 2)",
     "output_type": "error",
     "traceback": [
      "\u001b[1;36m  File \u001b[1;32m\"<ipython-input-1-020265aa1d85>\"\u001b[1;36m, line \u001b[1;32m2\u001b[0m\n\u001b[1;33m    for stock in enumerate stocks yield stocks.value()\u001b[0m\n\u001b[1;37m                                ^\u001b[0m\n\u001b[1;31mSyntaxError\u001b[0m\u001b[1;31m:\u001b[0m invalid syntax\n"
     ]
    }
   ],
   "source": [
    "stocks = {'ss':10, 'up':20, 'ds':35}\n",
    "for stock in enumerate stocks yield stocks.value()\n"
   ]
  },
  {
   "cell_type": "code",
   "execution_count": 2,
   "metadata": {},
   "outputs": [
    {
     "ename": "SyntaxError",
     "evalue": "invalid syntax (<ipython-input-2-7005745717f2>, line 2)",
     "output_type": "error",
     "traceback": [
      "\u001b[1;36m  File \u001b[1;32m\"<ipython-input-2-7005745717f2>\"\u001b[1;36m, line \u001b[1;32m2\u001b[0m\n\u001b[1;33m    for stock in enumerate stocks:\u001b[0m\n\u001b[1;37m                                ^\u001b[0m\n\u001b[1;31mSyntaxError\u001b[0m\u001b[1;31m:\u001b[0m invalid syntax\n"
     ]
    }
   ],
   "source": [
    "stocks = {'ss':10, 'up':20, 'ds':35}\n",
    "for stock in enumerate stocks:\n",
    "    yield stocks.value()\n"
   ]
  },
  {
   "cell_type": "code",
   "execution_count": 3,
   "metadata": {},
   "outputs": [
    {
     "ename": "SyntaxError",
     "evalue": "invalid syntax (<ipython-input-3-87b13aee781b>, line 2)",
     "output_type": "error",
     "traceback": [
      "\u001b[1;36m  File \u001b[1;32m\"<ipython-input-3-87b13aee781b>\"\u001b[1;36m, line \u001b[1;32m2\u001b[0m\n\u001b[1;33m    for stock, price in enumerate stocks:\u001b[0m\n\u001b[1;37m                                       ^\u001b[0m\n\u001b[1;31mSyntaxError\u001b[0m\u001b[1;31m:\u001b[0m invalid syntax\n"
     ]
    }
   ],
   "source": [
    "stocks = {'ss':10, 'up':20, 'ds':35}\n",
    "for stock, price in enumerate stocks:\n",
    "    yield(sock, price) "
   ]
  },
  {
   "cell_type": "code",
   "execution_count": 4,
   "metadata": {},
   "outputs": [
    {
     "ename": "SyntaxError",
     "evalue": "invalid syntax (<ipython-input-4-42cff66baa17>, line 2)",
     "output_type": "error",
     "traceback": [
      "\u001b[1;36m  File \u001b[1;32m\"<ipython-input-4-42cff66baa17>\"\u001b[1;36m, line \u001b[1;32m2\u001b[0m\n\u001b[1;33m    for stock, price in enumerate(stocks)\u001b[0m\n\u001b[1;37m                                         ^\u001b[0m\n\u001b[1;31mSyntaxError\u001b[0m\u001b[1;31m:\u001b[0m invalid syntax\n"
     ]
    }
   ],
   "source": [
    "stocks = {'ss':10, 'up':20, 'ds':35}\n",
    "for stock, price in enumerate(stocks)\n",
    "    yield(sock, price) "
   ]
  },
  {
   "cell_type": "code",
   "execution_count": 5,
   "metadata": {},
   "outputs": [
    {
     "ename": "SyntaxError",
     "evalue": "'yield' outside function (<ipython-input-5-ad89e5872647>, line 3)",
     "output_type": "error",
     "traceback": [
      "\u001b[1;36m  File \u001b[1;32m\"<ipython-input-5-ad89e5872647>\"\u001b[1;36m, line \u001b[1;32m3\u001b[0m\n\u001b[1;33m    yield(sock, price)\u001b[0m\n\u001b[1;37m    ^\u001b[0m\n\u001b[1;31mSyntaxError\u001b[0m\u001b[1;31m:\u001b[0m 'yield' outside function\n"
     ]
    }
   ],
   "source": [
    "stocks = {'ss':10, 'up':20, 'ds':35}\n",
    "for stock, price in enumerate(stocks):\n",
    "    yield(sock, price) "
   ]
  },
  {
   "cell_type": "code",
   "execution_count": 6,
   "metadata": {},
   "outputs": [
    {
     "name": "stdout",
     "output_type": "stream",
     "text": [
      "0 ss\n",
      "1 up\n",
      "2 ds\n"
     ]
    }
   ],
   "source": [
    "stocks = {'ss':10, 'up':20, 'ds':35}\n",
    "for stock, price in enumerate(stocks):\n",
    "    print(stock, price)"
   ]
  },
  {
   "cell_type": "code",
   "execution_count": 7,
   "metadata": {},
   "outputs": [
    {
     "ename": "SyntaxError",
     "evalue": "'yield' outside function (<ipython-input-7-20a6a24e95d5>, line 3)",
     "output_type": "error",
     "traceback": [
      "\u001b[1;36m  File \u001b[1;32m\"<ipython-input-7-20a6a24e95d5>\"\u001b[1;36m, line \u001b[1;32m3\u001b[0m\n\u001b[1;33m    yield (stock, price)\u001b[0m\n\u001b[1;37m    ^\u001b[0m\n\u001b[1;31mSyntaxError\u001b[0m\u001b[1;31m:\u001b[0m 'yield' outside function\n"
     ]
    }
   ],
   "source": [
    "stocks = {'ss':10, 'up':20, 'ds':35}\n",
    "for stock, price in enumerate(stocks):\n",
    "    yield (stock, price)"
   ]
  },
  {
   "cell_type": "code",
   "execution_count": 8,
   "metadata": {},
   "outputs": [
    {
     "ename": "SyntaxError",
     "evalue": "'yield' outside function (<ipython-input-8-4fbceb8bd91f>, line 3)",
     "output_type": "error",
     "traceback": [
      "\u001b[1;36m  File \u001b[1;32m\"<ipython-input-8-4fbceb8bd91f>\"\u001b[1;36m, line \u001b[1;32m3\u001b[0m\n\u001b[1;33m    yield(stock, price)\u001b[0m\n\u001b[1;37m    ^\u001b[0m\n\u001b[1;31mSyntaxError\u001b[0m\u001b[1;31m:\u001b[0m 'yield' outside function\n"
     ]
    }
   ],
   "source": [
    "stocks = {'ss':10, 'up':20, 'ds':35}\n",
    "for stock, price in enumerate(stocks):\n",
    "    yield(stock, price)"
   ]
  },
  {
   "cell_type": "code",
   "execution_count": 10,
   "metadata": {},
   "outputs": [
    {
     "ename": "IndentationError",
     "evalue": "expected an indented block (<ipython-input-10-395f31cc5edd>, line 3)",
     "output_type": "error",
     "traceback": [
      "\u001b[1;36m  File \u001b[1;32m\"<ipython-input-10-395f31cc5edd>\"\u001b[1;36m, line \u001b[1;32m3\u001b[0m\n\u001b[1;33m    for stock, price in enumerate(stocks):\u001b[0m\n\u001b[1;37m      ^\u001b[0m\n\u001b[1;31mIndentationError\u001b[0m\u001b[1;31m:\u001b[0m expected an indented block\n"
     ]
    }
   ],
   "source": [
    "stocks = {'ss':10, 'up':20, 'ds':35}\n",
    "def stock_analyzer():\n",
    "for stock, price in enumerate(stocks):\n",
    "    yield(stock, price)"
   ]
  },
  {
   "cell_type": "code",
   "execution_count": 11,
   "metadata": {},
   "outputs": [],
   "source": [
    "stocks = {'ss':10, 'up':20, 'ds':35}\n",
    "def stock_analyzer():\n",
    "    for stock, price in enumerate(stocks):\n",
    "        yield(stock,price)"
   ]
  },
  {
   "cell_type": "code",
   "execution_count": 12,
   "metadata": {},
   "outputs": [],
   "source": [
    "mystocklist = stock_analyzer()"
   ]
  },
  {
   "cell_type": "code",
   "execution_count": 13,
   "metadata": {},
   "outputs": [
    {
     "data": {
      "text/plain": [
       "<generator object stock_analyzer at 0x0000020AC5167F68>"
      ]
     },
     "execution_count": 13,
     "metadata": {},
     "output_type": "execute_result"
    }
   ],
   "source": [
    "mystocklist"
   ]
  },
  {
   "cell_type": "code",
   "execution_count": 14,
   "metadata": {},
   "outputs": [],
   "source": [
    "get_mystocks = list(mystocklist)"
   ]
  },
  {
   "cell_type": "code",
   "execution_count": 15,
   "metadata": {},
   "outputs": [
    {
     "data": {
      "text/plain": [
       "[(0, 'ss'), (1, 'up'), (2, 'ds')]"
      ]
     },
     "execution_count": 15,
     "metadata": {},
     "output_type": "execute_result"
    }
   ],
   "source": [
    "get_mystocks"
   ]
  },
  {
   "cell_type": "code",
   "execution_count": 1,
   "metadata": {},
   "outputs": [
    {
     "ename": "SyntaxError",
     "evalue": "invalid syntax (<ipython-input-1-bdbe7e7c074f>, line 2)",
     "output_type": "error",
     "traceback": [
      "\u001b[1;36m  File \u001b[1;32m\"<ipython-input-1-bdbe7e7c074f>\"\u001b[1;36m, line \u001b[1;32m2\u001b[0m\n\u001b[1;33m    odds = [x for x if x % 2 == 0]\u001b[0m\n\u001b[1;37m                     ^\u001b[0m\n\u001b[1;31mSyntaxError\u001b[0m\u001b[1;31m:\u001b[0m invalid syntax\n"
     ]
    }
   ],
   "source": [
    "a = [1, 2, 3, 4, 5, 6, 7, 8, 9, 10, 11]\n",
    "odds = [x for x if x % 2 == 0]"
   ]
  },
  {
   "cell_type": "code",
   "execution_count": 4,
   "metadata": {},
   "outputs": [],
   "source": [
    "a = [1, 2, 3, 4, 5, 6, 7, 8, 9, 10, 11]\n",
    "evens = [x for x in a if x % 2 == 0]"
   ]
  },
  {
   "cell_type": "code",
   "execution_count": 5,
   "metadata": {},
   "outputs": [
    {
     "data": {
      "text/plain": [
       "[2, 4, 6, 8, 10]"
      ]
     },
     "execution_count": 5,
     "metadata": {},
     "output_type": "execute_result"
    }
   ],
   "source": [
    "evens"
   ]
  },
  {
   "cell_type": "code",
   "execution_count": 6,
   "metadata": {},
   "outputs": [],
   "source": [
    "odds = [x for x in a if x % 2 !=0 ]"
   ]
  },
  {
   "cell_type": "code",
   "execution_count": 7,
   "metadata": {},
   "outputs": [
    {
     "data": {
      "text/plain": [
       "[1, 3, 5, 7, 9, 11]"
      ]
     },
     "execution_count": 7,
     "metadata": {},
     "output_type": "execute_result"
    }
   ],
   "source": [
    "odds"
   ]
  },
  {
   "cell_type": "code",
   "execution_count": 8,
   "metadata": {},
   "outputs": [],
   "source": [
    "matrix = [[1,2,3], [4, 5, 6], [7, 8, 9]]\n",
    "flat = [x for row in matrix for x in row]\n"
   ]
  },
  {
   "cell_type": "code",
   "execution_count": 9,
   "metadata": {},
   "outputs": [
    {
     "data": {
      "text/plain": [
       "[1, 2, 3, 4, 5, 6, 7, 8, 9]"
      ]
     },
     "execution_count": 9,
     "metadata": {},
     "output_type": "execute_result"
    }
   ],
   "source": [
    "flat"
   ]
  },
  {
   "cell_type": "code",
   "execution_count": 18,
   "metadata": {},
   "outputs": [],
   "source": [
    "class BetterCOuntMissing(object):\n",
    "    def __init__ (self):\n",
    "        self.added = 0\n",
    "        \n",
    "    def __call__(self):\n",
    "        self.added += 1\n",
    "        return 0\n",
    "    "
   ]
  },
  {
   "cell_type": "code",
   "execution_count": 19,
   "metadata": {},
   "outputs": [],
   "source": [
    "counter = BetterCOuntMissing()"
   ]
  },
  {
   "cell_type": "code",
   "execution_count": 20,
   "metadata": {},
   "outputs": [],
   "source": [
    "counter()\n",
    "assert callable(counter)"
   ]
  },
  {
   "cell_type": "code",
   "execution_count": 24,
   "metadata": {},
   "outputs": [
    {
     "ename": "NameError",
     "evalue": "name 'BetterCountMissing' is not defined",
     "output_type": "error",
     "traceback": [
      "\u001b[1;31m---------------------------------------------------------------------------\u001b[0m",
      "\u001b[1;31mNameError\u001b[0m                                 Traceback (most recent call last)",
      "\u001b[1;32m<ipython-input-24-5dd24e0280fb>\u001b[0m in \u001b[0;36m<module>\u001b[1;34m\u001b[0m\n\u001b[0;32m      1\u001b[0m \u001b[1;32mfrom\u001b[0m \u001b[0mcollections\u001b[0m \u001b[1;32mimport\u001b[0m \u001b[0mdefaultdict\u001b[0m\u001b[1;33m\u001b[0m\u001b[0m\n\u001b[1;32m----> 2\u001b[1;33m \u001b[0mcounter\u001b[0m \u001b[1;33m=\u001b[0m \u001b[0mBetterCountMissing\u001b[0m\u001b[1;33m(\u001b[0m\u001b[1;33m)\u001b[0m\u001b[1;33m\u001b[0m\u001b[0m\n\u001b[0m\u001b[0;32m      3\u001b[0m \u001b[0mresult\u001b[0m \u001b[1;33m=\u001b[0m \u001b[0mdefaultdict\u001b[0m\u001b[1;33m(\u001b[0m\u001b[0mcounter\u001b[0m\u001b[1;33m,\u001b[0m \u001b[0mcurrrent\u001b[0m\u001b[1;33m)\u001b[0m\u001b[1;33m\u001b[0m\u001b[0m\n\u001b[0;32m      4\u001b[0m \u001b[1;32mfor\u001b[0m \u001b[0mkey\u001b[0m\u001b[1;33m,\u001b[0m \u001b[0mamount\u001b[0m \u001b[1;32min\u001b[0m \u001b[0mincrements\u001b[0m\u001b[1;33m:\u001b[0m\u001b[1;33m\u001b[0m\u001b[0m\n\u001b[0;32m      5\u001b[0m     \u001b[0mresult\u001b[0m\u001b[1;33m[\u001b[0m\u001b[0mkey\u001b[0m\u001b[1;33m]\u001b[0m \u001b[1;33m+=\u001b[0m \u001b[0mamount\u001b[0m\u001b[1;33m\u001b[0m\u001b[0m\n",
      "\u001b[1;31mNameError\u001b[0m: name 'BetterCountMissing' is not defined"
     ]
    }
   ],
   "source": [
    "from collections import defaultdict\n",
    "counter = BetterCountMissing()\n",
    "result = defaultdict(counter, currrent)\n",
    "for key, amount in increments:\n",
    "    result[key] += amount\n",
    "assert counter.added == 2"
   ]
  },
  {
   "cell_type": "code",
   "execution_count": 39,
   "metadata": {},
   "outputs": [],
   "source": [
    "from collections import defaultdict\n",
    "class BetterCountMissing(object):\n",
    "    def __init__ (self):\n",
    "        self.added = 0\n",
    "        \n",
    "    def __call__(self):\n",
    "        self.added += 1\n",
    "        return 0\n",
    "    "
   ]
  },
  {
   "cell_type": "code",
   "execution_count": 35,
   "metadata": {},
   "outputs": [
    {
     "ename": "TypeError",
     "evalue": "'int' object is not iterable",
     "output_type": "error",
     "traceback": [
      "\u001b[1;31m---------------------------------------------------------------------------\u001b[0m",
      "\u001b[1;31mTypeError\u001b[0m                                 Traceback (most recent call last)",
      "\u001b[1;32m<ipython-input-35-5f99f0682fd7>\u001b[0m in \u001b[0;36m<module>\u001b[1;34m\u001b[0m\n\u001b[0;32m      2\u001b[0m \u001b[0mcounter\u001b[0m \u001b[1;33m=\u001b[0m \u001b[0mBetterCountMissing\u001b[0m\u001b[1;33m(\u001b[0m\u001b[1;33m)\u001b[0m\u001b[1;33m\u001b[0m\u001b[0m\n\u001b[0;32m      3\u001b[0m \u001b[0mresult\u001b[0m \u001b[1;33m=\u001b[0m \u001b[0mdefaultdict\u001b[0m\u001b[1;33m(\u001b[0m\u001b[0mcounter\u001b[0m\u001b[1;33m,\u001b[0m \u001b[0mcurrent\u001b[0m \u001b[1;33m=\u001b[0m \u001b[0malist\u001b[0m\u001b[1;33m)\u001b[0m\u001b[1;33m\u001b[0m\u001b[0m\n\u001b[1;32m----> 4\u001b[1;33m \u001b[1;32mfor\u001b[0m \u001b[0mkey\u001b[0m\u001b[1;33m,\u001b[0m \u001b[0mamount\u001b[0m \u001b[1;32min\u001b[0m \u001b[0malist\u001b[0m\u001b[1;33m:\u001b[0m\u001b[1;33m\u001b[0m\u001b[0m\n\u001b[0m\u001b[0;32m      5\u001b[0m     \u001b[0mresult\u001b[0m\u001b[1;33m[\u001b[0m\u001b[0mkey\u001b[0m\u001b[1;33m]\u001b[0m \u001b[1;33m+=\u001b[0m \u001b[0mamount\u001b[0m\u001b[1;33m\u001b[0m\u001b[0m\n\u001b[0;32m      6\u001b[0m \u001b[1;32massert\u001b[0m \u001b[0mcounter\u001b[0m\u001b[1;33m.\u001b[0m\u001b[0madded\u001b[0m \u001b[1;33m==\u001b[0m \u001b[1;36m2\u001b[0m\u001b[1;33m\u001b[0m\u001b[0m\n",
      "\u001b[1;31mTypeError\u001b[0m: 'int' object is not iterable"
     ]
    }
   ],
   "source": [
    "alist = [1,3,5,'jay', 'john']\n",
    "counter = BetterCountMissing()\n",
    "result = defaultdict(counter, current = alist)\n",
    "for key, amount in alist:\n",
    "    result[key] += amount\n",
    "assert counter.added == 2"
   ]
  },
  {
   "cell_type": "code",
   "execution_count": 36,
   "metadata": {},
   "outputs": [],
   "source": [
    "DIAL_CODES = [(86, 'China'),\n",
    "             (91, 'India'),\n",
    "             (1, 'United Sates'),\n",
    "             (6, 'Indonesis'),\n",
    "             (55, 'Brazil'),\n",
    "             (92, 'Pakistan'),\n",
    "             (800, 'Bngladesh'),\n",
    "             (234, 'nigeria'),\n",
    "             (254, 'Kenya'),\n",
    "             (7, 'Russia'),\n",
    "              (81, 'Japan'),]"
   ]
  },
  {
   "cell_type": "code",
   "execution_count": 37,
   "metadata": {},
   "outputs": [],
   "source": [
    "country_code = {country: code for code, country in DIAL_CODES}"
   ]
  },
  {
   "cell_type": "code",
   "execution_count": 38,
   "metadata": {},
   "outputs": [
    {
     "data": {
      "text/plain": [
       "{'China': 86,\n",
       " 'India': 91,\n",
       " 'United Sates': 1,\n",
       " 'Indonesis': 6,\n",
       " 'Brazil': 55,\n",
       " 'Pakistan': 92,\n",
       " 'Bngladesh': 800,\n",
       " 'nigeria': 234,\n",
       " 'Kenya': 254,\n",
       " 'Russia': 7,\n",
       " 'Japan': 81}"
      ]
     },
     "execution_count": 38,
     "metadata": {},
     "output_type": "execute_result"
    }
   ],
   "source": [
    "country_code"
   ]
  },
  {
   "cell_type": "code",
   "execution_count": 40,
   "metadata": {},
   "outputs": [
    {
     "ename": "IndentationError",
     "evalue": "expected an indented block (<ipython-input-40-de3e31e6059f>, line 9)",
     "output_type": "error",
     "traceback": [
      "\u001b[1;36m  File \u001b[1;32m\"<ipython-input-40-de3e31e6059f>\"\u001b[1;36m, line \u001b[1;32m9\u001b[0m\n\u001b[1;33m    sum_port_weights+=port_weights[i]\u001b[0m\n\u001b[1;37m                   ^\u001b[0m\n\u001b[1;31mIndentationError\u001b[0m\u001b[1;31m:\u001b[0m expected an indented block\n"
     ]
    }
   ],
   "source": [
    "#Defining the weights and returns of all sectors in portfolio and benchmark\n",
    "port_weights = [6.77,8.52,36.22,5.24,18.53,14.46,10.26]\n",
    "bench_weights = [6.45,8.99,37.36,4.65,16.56,18.87,7.12]\n",
    "port_returns = [-0.82,-3.28,1.96,0.44,2.98,2.32,0.54]\n",
    "bench_returns = [-0.73,-4.34,1.98,0.24,2.22,-0.48,-0.42]\n",
    "#Calculating and printing the sum of weights of sector in portfolio\n",
    "sum_port_weights = 0\n",
    "for i in range(len(port_weights)):\n",
    "sum_port_weights+=port_weights[i]\n",
    "print ('The sum of portfolio weights is: ', round(sum_port_weights))\n",
    "#Calculating and printing the sum of weights of sector in benchmark\n",
    "sum_bench_weights = 0\n",
    "for i in range(len(bench_weights)):\n",
    "sum_bench_weights+=bench_weights[i]\n",
    "print ('The sum of benchmark weights is: ', round(sum_bench_weights))\n",
    "#Calculating and printing the return from the portfolio\n",
    "ret_port=0\n",
    "for i in range(len(port_returns)):\n",
    "ret_port+=port_weights[i]*port_returns[i]/sum_port_weights\n",
    "print ('The return from the portfolio is: ', round(ret_port,2))\n",
    "#Calculating and printing the return from the benchmark\n",
    "ret_bench=0\n",
    "for i in range(len(bench_returns)):\n",
    "ret_bench+=bench_weights[i]*bench_returns[i]/sum_bench_weights\n",
    "print ('The return from the benchmark is: ', round(ret_bench,2))\n",
    "#Calculating active return from the portfolio\n",
    "ret_active = ret_port - bench_port\n",
    "print ('The active return is: ', round(ret_active,2))\n",
    "#Calculating pure sector return\n",
    "pure_sec_ret=0\n",
    "for i in range(len(port_weights)):\n",
    "pure_sec_ret+=(port_weights[i]-bench_weights[i])*(bench_returns[i]-ret_bench)/sum_port_weights\n",
    "print ('The pure selection return is: ', round(pure_sec_ret,2))\n",
    "#Calculating selection interaction return\n",
    "sel_int_ret=0\n",
    "for i in range(len(port_weights)):\n",
    "sel_int_ret+=(port_weights[i]-bench_weights[i])*(port_returns[i]-bench_returns[i])/sum_port_weights\n",
    "print ('The selection interaction return is: ', round(sel_int_ret,2))\n",
    "#Calculating within-sector selection return\n",
    "wit_sec_ret=0\n",
    "for i in range(len(port_weights)):\n",
    "wit_sec_ret+=bench_weights[i]*(port_returns[i]-bench_returns[i])/sum_port_weights\n",
    "print ('The within-sector selection return is: ', round(wit_sec_ret,2))\n",
    "#Summing up all the components\n",
    "ret_active_2 = pure_sec_ret + sel_int_ret + wit_sec_ret\n",
    "print ('The total active return from the components is: ', round(ret_active_2,2))\n",
    "#Output\n"
   ]
  },
  {
   "cell_type": "code",
   "execution_count": 42,
   "metadata": {},
   "outputs": [
    {
     "name": "stdout",
     "output_type": "stream",
     "text": [
      "The sum of portfolio weights is:  100\n"
     ]
    }
   ],
   "source": [
    "port_weights = [6.77,8.52,36.22,5.24,18.53,14.46,10.26]\n",
    "bench_weights = [6.45,8.99,37.36,4.65,16.56,18.87,7.12]\n",
    "port_returns = [-0.82,-3.28,1.96,0.44,2.98,2.32,0.54]\n",
    "bench_returns = [-0.73,-4.34,1.98,0.24,2.22,-0.48,-0.42]\n",
    "#Calculating and printing the sum of weights of sector in portfolio\n",
    "sum_port_weights = 0\n",
    "for i in range(len(port_weights)):\n",
    "    sum_port_weights+=port_weights[i]\n",
    "print ('The sum of portfolio weights is: ', round(sum_port_weights))"
   ]
  },
  {
   "cell_type": "code",
   "execution_count": 44,
   "metadata": {},
   "outputs": [
    {
     "name": "stdout",
     "output_type": "stream",
     "text": [
      "The sum of portfolio weights is:  100\n"
     ]
    }
   ],
   "source": [
    "sum_port_weights = 0\n",
    "for i in range(len(port_weights)):\n",
    "    sum_port_weights+=port_weights[i]\n",
    "print ('The sum of portfolio weights is: ', round(sum_port_weights))\n",
    "#Calculating and printing the sum of weights of sector in benchmark"
   ]
  },
  {
   "cell_type": "code",
   "execution_count": 45,
   "metadata": {},
   "outputs": [
    {
     "name": "stdout",
     "output_type": "stream",
     "text": [
      "The return from the portfolio is:  1.34\n"
     ]
    }
   ],
   "source": [
    "ret_port=0\n",
    "for i in range(len(port_returns)):\n",
    "    ret_port+=port_weights[i]*port_returns[i]/sum_port_weights\n",
    "print ('The return from the portfolio is: ', round(ret_port,2))\n",
    "#Calculating and printing the return from the benchmark"
   ]
  },
  {
   "cell_type": "code",
   "execution_count": 47,
   "metadata": {},
   "outputs": [
    {
     "ename": "NameError",
     "evalue": "name 'sum_bench_weights' is not defined",
     "output_type": "error",
     "traceback": [
      "\u001b[1;31m---------------------------------------------------------------------------\u001b[0m",
      "\u001b[1;31mNameError\u001b[0m                                 Traceback (most recent call last)",
      "\u001b[1;32m<ipython-input-47-14fec3e4dadd>\u001b[0m in \u001b[0;36m<module>\u001b[1;34m\u001b[0m\n\u001b[0;32m      2\u001b[0m \u001b[0mret_bench\u001b[0m\u001b[1;33m=\u001b[0m\u001b[1;36m0\u001b[0m\u001b[1;33m\u001b[0m\u001b[0m\n\u001b[0;32m      3\u001b[0m \u001b[1;32mfor\u001b[0m \u001b[0mi\u001b[0m \u001b[1;32min\u001b[0m \u001b[0mrange\u001b[0m\u001b[1;33m(\u001b[0m\u001b[0mlen\u001b[0m\u001b[1;33m(\u001b[0m\u001b[0mbench_returns\u001b[0m\u001b[1;33m)\u001b[0m\u001b[1;33m)\u001b[0m\u001b[1;33m:\u001b[0m\u001b[1;33m\u001b[0m\u001b[0m\n\u001b[1;32m----> 4\u001b[1;33m     \u001b[0mret_bench\u001b[0m\u001b[1;33m+=\u001b[0m\u001b[0mbench_weights\u001b[0m\u001b[1;33m[\u001b[0m\u001b[0mi\u001b[0m\u001b[1;33m]\u001b[0m\u001b[1;33m*\u001b[0m\u001b[0mbench_returns\u001b[0m\u001b[1;33m[\u001b[0m\u001b[0mi\u001b[0m\u001b[1;33m]\u001b[0m\u001b[1;33m/\u001b[0m\u001b[0msum_bench_weights\u001b[0m\u001b[1;33m\u001b[0m\u001b[0m\n\u001b[0m\u001b[0;32m      5\u001b[0m \u001b[0mprint\u001b[0m \u001b[1;33m(\u001b[0m\u001b[1;34m'The return from the benchmark is: '\u001b[0m\u001b[1;33m,\u001b[0m \u001b[0mround\u001b[0m\u001b[1;33m(\u001b[0m\u001b[0mret_bench\u001b[0m\u001b[1;33m,\u001b[0m\u001b[1;36m2\u001b[0m\u001b[1;33m)\u001b[0m\u001b[1;33m)\u001b[0m\u001b[1;33m\u001b[0m\u001b[0m\n\u001b[0;32m      6\u001b[0m \u001b[1;31m#Calculating active return from the portfolio\u001b[0m\u001b[1;33m\u001b[0m\u001b[1;33m\u001b[0m\u001b[0m\n",
      "\u001b[1;31mNameError\u001b[0m: name 'sum_bench_weights' is not defined"
     ]
    }
   ],
   "source": [
    "sum_port_weights = 0\n",
    "ret_bench=0\n",
    "for i in range(len(bench_returns)):\n",
    "    ret_bench+=bench_weights[i]*bench_returns[i]/sum_bench_weights\n",
    "print ('The return from the benchmark is: ', round(ret_bench,2))\n",
    "#Calculating active return from the portfolio"
   ]
  },
  {
   "cell_type": "code",
   "execution_count": 48,
   "metadata": {},
   "outputs": [
    {
     "name": "stdout",
     "output_type": "stream",
     "text": [
      "The sum of benchmark weights is:  100\n"
     ]
    }
   ],
   "source": [
    "sum_bench_weights = 0\n",
    "for i in range(len(bench_weights)):\n",
    "    sum_bench_weights+=bench_weights[i]\n",
    "print ('The sum of benchmark weights is: ', round(sum_bench_weights))\n",
    "#Calculating and printing the return from the portfolio"
   ]
  },
  {
   "cell_type": "code",
   "execution_count": 49,
   "metadata": {},
   "outputs": [
    {
     "ename": "ZeroDivisionError",
     "evalue": "float division by zero",
     "output_type": "error",
     "traceback": [
      "\u001b[1;31m---------------------------------------------------------------------------\u001b[0m",
      "\u001b[1;31mZeroDivisionError\u001b[0m                         Traceback (most recent call last)",
      "\u001b[1;32m<ipython-input-49-4404a5b8e054>\u001b[0m in \u001b[0;36m<module>\u001b[1;34m\u001b[0m\n\u001b[0;32m      1\u001b[0m \u001b[0mret_port\u001b[0m\u001b[1;33m=\u001b[0m\u001b[1;36m0\u001b[0m\u001b[1;33m\u001b[0m\u001b[0m\n\u001b[0;32m      2\u001b[0m \u001b[1;32mfor\u001b[0m \u001b[0mi\u001b[0m \u001b[1;32min\u001b[0m \u001b[0mrange\u001b[0m\u001b[1;33m(\u001b[0m\u001b[0mlen\u001b[0m\u001b[1;33m(\u001b[0m\u001b[0mport_returns\u001b[0m\u001b[1;33m)\u001b[0m\u001b[1;33m)\u001b[0m\u001b[1;33m:\u001b[0m\u001b[1;33m\u001b[0m\u001b[0m\n\u001b[1;32m----> 3\u001b[1;33m     \u001b[0mret_port\u001b[0m\u001b[1;33m+=\u001b[0m\u001b[0mport_weights\u001b[0m\u001b[1;33m[\u001b[0m\u001b[0mi\u001b[0m\u001b[1;33m]\u001b[0m\u001b[1;33m*\u001b[0m\u001b[0mport_returns\u001b[0m\u001b[1;33m[\u001b[0m\u001b[0mi\u001b[0m\u001b[1;33m]\u001b[0m\u001b[1;33m/\u001b[0m\u001b[0msum_port_weights\u001b[0m\u001b[1;33m\u001b[0m\u001b[0m\n\u001b[0m\u001b[0;32m      4\u001b[0m \u001b[0mprint\u001b[0m \u001b[1;33m(\u001b[0m\u001b[1;34m'The return from the portfolio is: '\u001b[0m\u001b[1;33m,\u001b[0m \u001b[0mround\u001b[0m\u001b[1;33m(\u001b[0m\u001b[0mret_port\u001b[0m\u001b[1;33m,\u001b[0m\u001b[1;36m2\u001b[0m\u001b[1;33m)\u001b[0m\u001b[1;33m)\u001b[0m\u001b[1;33m\u001b[0m\u001b[0m\n\u001b[0;32m      5\u001b[0m \u001b[1;31m#Calculating and printing the return from the benchmark\u001b[0m\u001b[1;33m\u001b[0m\u001b[1;33m\u001b[0m\u001b[0m\n",
      "\u001b[1;31mZeroDivisionError\u001b[0m: float division by zero"
     ]
    }
   ],
   "source": [
    "ret_port=0\n",
    "for i in range(len(port_returns)):\n",
    "    ret_port+=port_weights[i]*port_returns[i]/sum_port_weights\n",
    "print ('The return from the portfolio is: ', round(ret_port,2))\n",
    "#Calculating and printing the return from the benchmark"
   ]
  },
  {
   "cell_type": "code",
   "execution_count": 50,
   "metadata": {},
   "outputs": [
    {
     "name": "stdout",
     "output_type": "stream",
     "text": [
      "The return from the benchmark is:  0.56\n"
     ]
    }
   ],
   "source": [
    "sum_port_weights = 0\n",
    "ret_bench=0\n",
    "for i in range(len(bench_returns)):\n",
    "    ret_bench+=bench_weights[i]*bench_returns[i]/sum_bench_weights\n",
    "print ('The return from the benchmark is: ', round(ret_bench,2))\n",
    "#Calculating active return from the portfolio"
   ]
  },
  {
   "cell_type": "code",
   "execution_count": 51,
   "metadata": {},
   "outputs": [
    {
     "ename": "NameError",
     "evalue": "name 'bench_port' is not defined",
     "output_type": "error",
     "traceback": [
      "\u001b[1;31m---------------------------------------------------------------------------\u001b[0m",
      "\u001b[1;31mNameError\u001b[0m                                 Traceback (most recent call last)",
      "\u001b[1;32m<ipython-input-51-a09c4a7f54db>\u001b[0m in \u001b[0;36m<module>\u001b[1;34m\u001b[0m\n\u001b[1;32m----> 1\u001b[1;33m \u001b[0mret_active\u001b[0m \u001b[1;33m=\u001b[0m \u001b[0mret_port\u001b[0m \u001b[1;33m-\u001b[0m \u001b[0mbench_port\u001b[0m\u001b[1;33m\u001b[0m\u001b[0m\n\u001b[0m\u001b[0;32m      2\u001b[0m \u001b[0mprint\u001b[0m \u001b[1;33m(\u001b[0m\u001b[1;34m'The active return is: '\u001b[0m\u001b[1;33m,\u001b[0m \u001b[0mround\u001b[0m\u001b[1;33m(\u001b[0m\u001b[0mret_active\u001b[0m\u001b[1;33m,\u001b[0m\u001b[1;36m2\u001b[0m\u001b[1;33m)\u001b[0m\u001b[1;33m)\u001b[0m\u001b[1;33m\u001b[0m\u001b[0m\n\u001b[0;32m      3\u001b[0m \u001b[1;31m#Calculating pure sector return\u001b[0m\u001b[1;33m\u001b[0m\u001b[1;33m\u001b[0m\u001b[0m\n\u001b[0;32m      4\u001b[0m \u001b[0mpure_sec_ret\u001b[0m\u001b[1;33m=\u001b[0m\u001b[1;36m0\u001b[0m\u001b[1;33m\u001b[0m\u001b[0m\n",
      "\u001b[1;31mNameError\u001b[0m: name 'bench_port' is not defined"
     ]
    }
   ],
   "source": [
    "ret_active = ret_port - bench_port\n",
    "print ('The active return is: ', round(ret_active,2))\n",
    "#Calculating pure sector return\n",
    "pure_sec_ret=0"
   ]
  },
  {
   "cell_type": "code",
   "execution_count": 52,
   "metadata": {},
   "outputs": [
    {
     "name": "stdout",
     "output_type": "stream",
     "text": [
      "The return from the benchmark is:  1.12\n"
     ]
    }
   ],
   "source": [
    "for i in range(len(bench_returns)):\n",
    "    ret_bench+=bench_weights[i]*bench_returns[i]/sum_bench_weights\n",
    "print ('The return from the benchmark is: ', round(ret_bench,2))\n",
    "#Calculating active return from the portfolio"
   ]
  },
  {
   "cell_type": "code",
   "execution_count": 53,
   "metadata": {},
   "outputs": [
    {
     "ename": "NameError",
     "evalue": "name 'bench_port' is not defined",
     "output_type": "error",
     "traceback": [
      "\u001b[1;31m---------------------------------------------------------------------------\u001b[0m",
      "\u001b[1;31mNameError\u001b[0m                                 Traceback (most recent call last)",
      "\u001b[1;32m<ipython-input-53-69063122d1a9>\u001b[0m in \u001b[0;36m<module>\u001b[1;34m\u001b[0m\n\u001b[1;32m----> 1\u001b[1;33m \u001b[0mret_active\u001b[0m \u001b[1;33m=\u001b[0m \u001b[0mret_port\u001b[0m \u001b[1;33m-\u001b[0m \u001b[0mbench_port\u001b[0m\u001b[1;33m\u001b[0m\u001b[0m\n\u001b[0m\u001b[0;32m      2\u001b[0m \u001b[0mprint\u001b[0m \u001b[1;33m(\u001b[0m\u001b[1;34m'The active return is: '\u001b[0m\u001b[1;33m,\u001b[0m \u001b[0mround\u001b[0m\u001b[1;33m(\u001b[0m\u001b[0mret_active\u001b[0m\u001b[1;33m,\u001b[0m\u001b[1;36m2\u001b[0m\u001b[1;33m)\u001b[0m\u001b[1;33m)\u001b[0m\u001b[1;33m\u001b[0m\u001b[0m\n\u001b[0;32m      3\u001b[0m \u001b[1;31m#Calculating pure sector return\u001b[0m\u001b[1;33m\u001b[0m\u001b[1;33m\u001b[0m\u001b[0m\n",
      "\u001b[1;31mNameError\u001b[0m: name 'bench_port' is not defined"
     ]
    }
   ],
   "source": [
    "ret_active = ret_port - bench_port\n",
    "print ('The active return is: ', round(ret_active,2))\n",
    "#Calculating pure sector return"
   ]
  },
  {
   "cell_type": "code",
   "execution_count": null,
   "metadata": {},
   "outputs": [],
   "source": []
  }
 ],
 "metadata": {
  "kernelspec": {
   "display_name": "Python 3",
   "language": "python",
   "name": "python3"
  },
  "language_info": {
   "codemirror_mode": {
    "name": "ipython",
    "version": 3
   },
   "file_extension": ".py",
   "mimetype": "text/x-python",
   "name": "python",
   "nbconvert_exporter": "python",
   "pygments_lexer": "ipython3",
   "version": "3.6.4"
  }
 },
 "nbformat": 4,
 "nbformat_minor": 2
}
