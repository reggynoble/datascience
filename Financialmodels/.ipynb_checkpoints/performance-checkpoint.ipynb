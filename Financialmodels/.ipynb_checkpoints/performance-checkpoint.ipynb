{
 "cells": [
  {
   "cell_type": "code",
   "execution_count": 1,
   "metadata": {},
   "outputs": [
    {
     "ename": "SyntaxError",
     "evalue": "invalid character in identifier (<ipython-input-1-fb54667a539c>, line 4)",
     "output_type": "error",
     "traceback": [
      "\u001b[1;36m  File \u001b[1;32m\"<ipython-input-1-fb54667a539c>\"\u001b[1;36m, line \u001b[1;32m4\u001b[0m\n\u001b[1;33m    stats[‘Annualized Returns(%)’] =datos_returns.mean() * semana *100\u001b[0m\n\u001b[1;37m                    ^\u001b[0m\n\u001b[1;31mSyntaxError\u001b[0m\u001b[1;31m:\u001b[0m invalid character in identifier\n"
     ]
    }
   ],
   "source": [
    "datos_returns = np.log(datos/datos.shift(1))\n",
    "datos_returns.dropna(inplace=True)\n",
    "stats = pd.DataFrame()\n",
    "stats[‘Annualized Returns(%)’] =datos_returns.mean() * semana *100\n",
    "stats[‘Annualized Volatility(%)’] = datos_returns.std() * np.sqrt(semana)*100\n",
    "stats[‘Sharpe Ratio’] = stats[‘Annualized Returns(%)’] /stats[‘Annualized Volatility(%)’]\n",
    "print(82*’-’)\n",
    "print(‘Assets Classes Annualized Statistics — full observation period’)\n",
    "stats.style.bar(color=[‘red’,’green’], align=’zero’)"
   ]
  },
  {
   "cell_type": "code",
   "execution_count": null,
   "metadata": {},
   "outputs": [],
   "source": []
  }
 ],
 "metadata": {
  "kernelspec": {
   "display_name": "Python 3",
   "language": "python",
   "name": "python3"
  },
  "language_info": {
   "codemirror_mode": {
    "name": "ipython",
    "version": 3
   },
   "file_extension": ".py",
   "mimetype": "text/x-python",
   "name": "python",
   "nbconvert_exporter": "python",
   "pygments_lexer": "ipython3",
   "version": "3.6.4"
  }
 },
 "nbformat": 4,
 "nbformat_minor": 2
}
